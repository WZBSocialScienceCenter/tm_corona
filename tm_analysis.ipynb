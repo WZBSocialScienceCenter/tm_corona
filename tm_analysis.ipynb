{
 "cells": [
  {
   "cell_type": "code",
   "execution_count": 1,
   "metadata": {},
   "outputs": [],
   "source": [
    "import numpy as np\n",
    "import pandas as pd\n",
    "\n",
    "pd.options.display.max_rows = 180"
   ]
  },
  {
   "cell_type": "code",
   "execution_count": 2,
   "metadata": {},
   "outputs": [
    {
     "data": {
      "text/plain": [
       "[({'eta': 0.7,\n",
       "   'n_topics': 180,\n",
       "   'alpha': 0.05555555555555555,\n",
       "   'n_iter': 2000,\n",
       "   'random_state': 20200918},\n",
       "  {'model': <lda.lda.LDA at 0x7f40a072ea90>,\n",
       "   'cao_juan_2009': 0.11512976617805985,\n",
       "   'arun_2010': 240.13476983487237,\n",
       "   'coherence_mimno_2011': -1.5269574077666448}),\n",
       " ({'eta': 0.9,\n",
       "   'n_topics': 180,\n",
       "   'alpha': 0.05555555555555555,\n",
       "   'n_iter': 2000,\n",
       "   'random_state': 20200918},\n",
       "  {'model': <lda.lda.LDA at 0x7f40a07418e0>,\n",
       "   'cao_juan_2009': 0.11787665410482431,\n",
       "   'arun_2010': 251.6912567275862,\n",
       "   'coherence_mimno_2011': -1.5321521355858605}),\n",
       " ({'eta': 0.7,\n",
       "   'n_topics': 200,\n",
       "   'alpha': 0.05,\n",
       "   'n_iter': 2000,\n",
       "   'random_state': 20200918},\n",
       "  {'model': <lda.lda.LDA at 0x7f40a0747580>,\n",
       "   'cao_juan_2009': 0.11403311473801361,\n",
       "   'arun_2010': 232.2083384928255,\n",
       "   'coherence_mimno_2011': -1.5198614066534426}),\n",
       " ({'eta': 0.9,\n",
       "   'n_topics': 200,\n",
       "   'alpha': 0.05,\n",
       "   'n_iter': 2000,\n",
       "   'random_state': 20200918},\n",
       "  {'model': <lda.lda.LDA at 0x7f4059fa1490>,\n",
       "   'cao_juan_2009': 0.11597908839514663,\n",
       "   'arun_2010': 236.84080275142895,\n",
       "   'coherence_mimno_2011': -1.5570573198679016}),\n",
       " ({'eta': 0.7,\n",
       "   'n_topics': 220,\n",
       "   'alpha': 0.045454545454545456,\n",
       "   'n_iter': 2000,\n",
       "   'random_state': 20200918},\n",
       "  {'model': <lda.lda.LDA at 0x7f4059fa1160>,\n",
       "   'cao_juan_2009': 0.10900696921901454,\n",
       "   'arun_2010': 213.5423318162071,\n",
       "   'coherence_mimno_2011': -1.5224784898564017}),\n",
       " ({'eta': 0.9,\n",
       "   'n_topics': 220,\n",
       "   'alpha': 0.045454545454545456,\n",
       "   'n_iter': 2000,\n",
       "   'random_state': 20200918},\n",
       "  {'model': <lda.lda.LDA at 0x7f4059fa1730>,\n",
       "   'cao_juan_2009': 0.10745317678574899,\n",
       "   'arun_2010': 230.97402190697454,\n",
       "   'coherence_mimno_2011': -1.582680933330239})]"
      ]
     },
     "execution_count": 2,
     "metadata": {},
     "output_type": "execute_result"
    }
   ],
   "source": [
    "from tmtoolkit.utils import unpickle_file\n",
    "\n",
    "models = unpickle_file('data/tm_final_results.pickle')\n",
    "models"
   ]
  },
  {
   "cell_type": "code",
   "execution_count": 3,
   "metadata": {},
   "outputs": [
    {
     "data": {
      "text/plain": [
       "<lda.lda.LDA at 0x7f40a072ea90>"
      ]
     },
     "execution_count": 3,
     "metadata": {},
     "output_type": "execute_result"
    }
   ],
   "source": [
    "ldamodel = models[0][1]['model']\n",
    "ldamodel"
   ]
  },
  {
   "cell_type": "code",
   "execution_count": 4,
   "metadata": {},
   "outputs": [],
   "source": [
    "from tmtoolkit.utils import pickle_data\n",
    "\n",
    "pickle_data(ldamodel, 'data/tm_final_k180_eta0.7.pickle')"
   ]
  },
  {
   "cell_type": "code",
   "execution_count": 5,
   "metadata": {},
   "outputs": [],
   "source": [
    "doc_topic = ldamodel.doc_topic_\n",
    "topic_word = ldamodel.topic_word_"
   ]
  },
  {
   "cell_type": "code",
   "execution_count": 6,
   "metadata": {},
   "outputs": [
    {
     "data": {
      "text/plain": [
       "(32921, 3278, (32921, 3278))"
      ]
     },
     "execution_count": 6,
     "metadata": {},
     "output_type": "execute_result"
    }
   ],
   "source": [
    "doc_labels, vocab, dtm = unpickle_file('data/dtm.pickle')\n",
    "doc_labels = np.array(doc_labels)\n",
    "vocab = np.array(vocab)\n",
    "len(doc_labels), len(vocab), dtm.shape"
   ]
  },
  {
   "cell_type": "code",
   "execution_count": 7,
   "metadata": {},
   "outputs": [
    {
     "data": {
      "text/plain": [
       "array(['007-drehorte-in-europa-klimavertraeglicher-james-bond-a-1295233',\n",
       "       '070-shake-in-berlin-vertrauensuebung-mit-einer-emo-rapperin-a-7c4a0eb3-7c1b-474c-aaee-f2de6e165362',\n",
       "       '1-fc-heidenheim-in-der-relegation-demoliert-in-die-groessten-spiele-der-vereinsgeschichte-a-383ce249-6865-4bfa-a8ea-2a89894ad7b2',\n",
       "       '1-fc-heidenheim-unterliegt-werder-bremen-in-der-relegation-da-helfen-auch-keine-klatschpfannen-a-ea0861b0-dd7c-403a-99ab-38b6c25c7aed',\n",
       "       '1-fc-kaiserslautern-beantragt-in-der-3-liga-insolvenz-pfaelzer-sauplan-a-69b7ee5a-5cc8-4f8c-9f67-c5f455a3ec9f',\n",
       "       '1-fc-kaiserslautern-fussball-drittligist-stellt-antrag-auf-plan-insolvenz-a-fb530286-9b7b-4cd7-ae1f-9a876cc3f700',\n",
       "       '1-fc-koeln-beendet-kooperation-mit-china-totaler-ueberwachungsstaat-a-1301960',\n",
       "       '1-fc-koeln-holt-horst-heldt-und-markus-gisdol-neue-gesichter-alte-zweifel-a-1297292',\n",
       "       '1-fc-koeln-kontert-kuendigung-eines-mitglieds-wegen-moschee-auf-dem-trikot-a-0fc58882-dffd-4f84-a157-6ba1d86061ca',\n",
       "       '1-fc-koeln-markus-gisdol-soll-neuer-trainer-werden-a-1297085'],\n",
       "      dtype='<U190')"
      ]
     },
     "execution_count": 7,
     "metadata": {},
     "output_type": "execute_result"
    }
   ],
   "source": [
    "doc_labels[:10]"
   ]
  },
  {
   "cell_type": "code",
   "execution_count": 8,
   "metadata": {},
   "outputs": [
    {
     "data": {
      "text/plain": [
       "array(['10', '11', '20', 'ab', 'abbauen', 'abbrechen', 'abend', 'abends',\n",
       "       'abgeben', 'abgeordnete'], dtype='<U27')"
      ]
     },
     "execution_count": 8,
     "metadata": {},
     "output_type": "execute_result"
    }
   ],
   "source": [
    "vocab[:10]"
   ]
  },
  {
   "cell_type": "code",
   "execution_count": 9,
   "metadata": {},
   "outputs": [
    {
     "data": {
      "text/plain": [
       "<32921x3278 sparse matrix of type '<class 'numpy.int32'>'\n",
       "\twith 4247828 stored elements in Compressed Sparse Row format>"
      ]
     },
     "execution_count": 9,
     "metadata": {},
     "output_type": "execute_result"
    }
   ],
   "source": [
    "dtm"
   ]
  },
  {
   "cell_type": "code",
   "execution_count": 10,
   "metadata": {},
   "outputs": [
    {
     "data": {
      "image/png": "[encoded data removed]",
      "text/plain": [
       "<Figure size 576x432 with 1 Axes>"
      ]
     },
     "metadata": {
      "needs_background": "light"
     },
     "output_type": "display_data"
    }
   ],
   "source": [
    "import matplotlib.pyplot as plt\n",
    "\n",
    "topic_word_desc = -np.sort(-topic_word, axis=1)\n",
    "fig, ax = plt.subplots(figsize=(8, 6))\n",
    "n_terms = 40\n",
    "term_ranks = np.arange(1, n_terms+1)\n",
    "for t in topic_word_desc:\n",
    "    ax.plot(term_ranks, t[:n_terms], color = 'black', alpha=0.1)\n",
    "\n",
    "fig;"
   ]
  },
  {
   "cell_type": "code",
   "execution_count": 11,
   "metadata": {},
   "outputs": [
    {
     "data": {
      "text/plain": [
       "array([131, 158,  93])"
      ]
     },
     "execution_count": 11,
     "metadata": {},
     "output_type": "execute_result"
    }
   ],
   "source": [
    "highlight_topics = np.argsort(-topic_word_desc[:, [0, 8, 25]], axis=0)[0, :]\n",
    "highlight_topics"
   ]
  },
  {
   "cell_type": "code",
   "execution_count": 12,
   "metadata": {},
   "outputs": [
    {
     "data": {
      "image/png": "[encoded data removed]",
      "text/plain": [
       "<Figure size 576x432 with 1 Axes>"
      ]
     },
     "metadata": {
      "needs_background": "light"
     },
     "output_type": "display_data"
    }
   ],
   "source": [
    "palette = plt.get_cmap('Dark2')\n",
    "\n",
    "fig, ax = plt.subplots(figsize=(8, 6))\n",
    "highlight_topics_handles = []\n",
    "for i, t in enumerate(topic_word_desc):\n",
    "    highlight_index = np.where(i == highlight_topics)[0]\n",
    "    if len(highlight_index) > 0:\n",
    "        color = palette(highlight_index[0])\n",
    "        label = 'topic ' + str(i+1)\n",
    "        lw = 3\n",
    "    else:\n",
    "        color = 'black'\n",
    "        label = 'other topics'\n",
    "        lw = 1\n",
    "    \n",
    "    hndl, = ax.plot(term_ranks, np.log(t[:n_terms]), color=color, label=label, lw=lw, alpha=0.3)\n",
    "    \n",
    "    if len(highlight_index) > 0:\n",
    "        highlight_topics_handles.append(hndl)\n",
    "\n",
    "ax.legend(handles=highlight_topics_handles, loc='best')\n",
    "fig;"
   ]
  },
  {
   "cell_type": "code",
   "execution_count": 13,
   "metadata": {},
   "outputs": [
    {
     "data": {
      "text/plain": [
       "array([[-6.56622682, -6.47633154, -6.48707646, ..., -6.72499435,\n",
       "        -6.64484627, -5.20960509],\n",
       "       [-7.43442808, -7.3445328 , -7.35527771, ..., -6.70589241,\n",
       "        -5.11515226, -7.42773306],\n",
       "       [-6.78071434, -6.69081905, -6.70156397, ..., -5.58955515,\n",
       "        -5.97203059, -6.77401932],\n",
       "       ...,\n",
       "       [-7.14246662, -7.05257133, -7.06331625, ..., -7.30123414,\n",
       "        -5.31684861, -7.1357716 ],\n",
       "       [-3.15177778, -4.50491935, -3.50897469, ..., -7.03836263,\n",
       "        -5.02925396, -6.09519551],\n",
       "       [-7.59616309, -7.5062678 , -7.51701272, ..., -3.97399302,\n",
       "        -6.00977477, -7.58946807]])"
      ]
     },
     "execution_count": 13,
     "metadata": {},
     "output_type": "execute_result"
    }
   ],
   "source": [
    "from tmtoolkit.topicmod.model_stats import topic_word_relevance\n",
    "from tmtoolkit.bow.bow_stats import doc_lengths\n",
    "\n",
    "doc_lengths = doc_lengths(dtm)\n",
    "\n",
    "topic_word_rel = topic_word_relevance(topic_word, doc_topic, doc_lengths, lambda_=0.6)\n",
    "topic_word_rel"
   ]
  },
  {
   "cell_type": "code",
   "execution_count": 14,
   "metadata": {},
   "outputs": [
    {
     "data": {
      "text/plain": [
       "array([ 12,  27,  75,  89,  92, 107, 119, 125, 130, 154, 167, 179])"
      ]
     },
     "execution_count": 14,
     "metadata": {},
     "output_type": "execute_result"
    }
   ],
   "source": [
    "from tmtoolkit.topicmod.model_stats import filter_topics\n",
    "\n",
    "covid19_topics = filter_topics(['corona*', 'covid*', 'pandemie', 'sars*', 'infektion', 'rki'],\n",
    "                               vocab, topic_word_rel, match_type='glob', top_n=10)\n",
    "covid19_topics  # these are topic *indices*"
   ]
  },
  {
   "cell_type": "code",
   "execution_count": 15,
   "metadata": {},
   "outputs": [],
   "source": [
    "from tmtoolkit.topicmod.model_io import save_ldamodel_summary_to_excel\n",
    "\n",
    "# this takes some time since the generated \n",
    "\n",
    "# save_ldamodel_summary_to_excel('output/tm_final_k180_eta0.7.xlsx',\n",
    "#                                topic_word, doc_topic, doc_labels, vocab,\n",
    "#                                dtm = dtm);\n",
    "# save_ldamodel_summary_to_excel('output/tm_final_k180_eta0.7_tw_relevance.xlsx',\n",
    "#                                topic_word_rel, doc_topic, doc_labels, vocab,\n",
    "#                                dtm=dtm);"
   ]
  },
  {
   "cell_type": "markdown",
   "metadata": {},
   "source": [
    "manually identified in `output/tm_final_k180_eta0.7_tw_relevance.xlsx`:"
   ]
  },
  {
   "cell_type": "code",
   "execution_count": 16,
   "metadata": {},
   "outputs": [],
   "source": [
    "# substract 1 to get topic *indices* (these start at topic 0)\n",
    "\n",
    "nonsensical_topics = np.array([7, 8, 46, 47, 61, 63, 64, 74, 78, 80,\n",
    "                               93, 94, 97, 111, 113, 122, 124, 129,\n",
    "                               139, 159, 170]) - 1\n",
    "covid19_topics = np.array([13, 24, 28, 35, 50, 76, 90, 106, 108, 126,\n",
    "                           131, 135, 152, 155, 168, 180]) - 1"
   ]
  },
  {
   "cell_type": "code",
   "execution_count": 17,
   "metadata": {},
   "outputs": [
    {
     "data": {
      "text/plain": [
       "((32921, 159), (159, 3278))"
      ]
     },
     "execution_count": 17,
     "metadata": {},
     "output_type": "execute_result"
    }
   ],
   "source": [
    "from tmtoolkit.topicmod.model_stats import exclude_topics\n",
    "\n",
    "doc_topic, topic_word, new_topic_mapping =  exclude_topics(\n",
    "    nonsensical_topics, doc_topic, topic_word, return_new_topic_mapping=True\n",
    ")\n",
    "doc_topic.shape, topic_word.shape"
   ]
  },
  {
   "cell_type": "code",
   "execution_count": 18,
   "metadata": {},
   "outputs": [
    {
     "data": {
      "text/plain": [
       "array([ 10,  21,  25,  32,  45,  67,  79,  92,  94, 108, 112, 116, 132,\n",
       "       135, 147, 158])"
      ]
     },
     "execution_count": 18,
     "metadata": {},
     "output_type": "execute_result"
    }
   ],
   "source": [
    "old_topic_ind, new_topic_ind = map(lambda x: np.array(list(x)),\n",
    "                                   (new_topic_mapping.keys(), new_topic_mapping.values()))\n",
    "covid19_topics = new_topic_ind[np.searchsorted(old_topic_ind, covid19_topics)]\n",
    "covid19_topics"
   ]
  },
  {
   "cell_type": "code",
   "execution_count": 19,
   "metadata": {},
   "outputs": [],
   "source": [
    "from tmtoolkit.topicmod.model_stats import generate_topic_labels_from_top_words\n",
    "\n",
    "topic_labels = generate_topic_labels_from_top_words(\n",
    "    topic_word,\n",
    "    doc_topic,\n",
    "    doc_lengths,\n",
    "    vocab,\n",
    "    lambda_=0.6\n",
    ")\n"
   ]
  },
  {
   "cell_type": "code",
   "execution_count": 20,
   "metadata": {},
   "outputs": [
    {
     "data": {
      "text/plain": [
       "array(['11_pandemie_coronakrise', '22_maske_maskenpflicht',\n",
       "       '26_neuinfektionen_zahl', '33_spahn_test', '46_lockerungen_öffnen',\n",
       "       '68_wuhan_coronavirus', '80_virus_sarscov2', '93_gates_foundation',\n",
       "       '95_schließen_maßnahme', '109_coronakrise_kurzarbeit',\n",
       "       '113_impfstoff_medikament', '117_hand_abstand', '133_arzt_patient',\n",
       "       '136_zahl_todesfälle', '148_quarantäne_positiv',\n",
       "       '159_coronakrise_corona'], dtype='<U33')"
      ]
     },
     "execution_count": 20,
     "metadata": {},
     "output_type": "execute_result"
    }
   ],
   "source": [
    "topic_labels[covid19_topics]"
   ]
  },
  {
   "cell_type": "code",
   "execution_count": 21,
   "metadata": {},
   "outputs": [
    {
     "data": {
      "text/plain": [
       "[('26_neuinfektionen_zahl', 0.015712434406330807),\n",
       " ('75_minute_tor', 0.012762950363237005),\n",
       " ('108_trump_donald', 0.01272651858438072),\n",
       " ('105_prozent_quartal', 0.012365290954533646),\n",
       " ('80_virus_sarscov2', 0.012150155180471557),\n",
       " ('46_lockerungen_öffnen', 0.011952432146179335),\n",
       " ('95_schließen_maßnahme', 0.011331682833765531),\n",
       " ('158_bayer_dortmund', 0.01112611539262225),\n",
       " ('93_gates_foundation', 0.010949357258572412),\n",
       " ('119_leben_mensch', 0.010779585583945827),\n",
       " ('136_zahl_todesfälle', 0.010306918241285478),\n",
       " ('107_prozent_zahl', 0.010126169620470383),\n",
       " ('68_wuhan_coronavirus', 0.010071376604688579),\n",
       " ('159_coronakrise_corona', 0.010035174941218018),\n",
       " ('32_gericht_verurteilen', 0.009998688185347377),\n",
       " ('34_begriff_medium', 0.009733718116205612),\n",
       " ('11_pandemie_coronakrise', 0.00972157511571275),\n",
       " ('101_song_musik', 0.009688675866130446),\n",
       " ('87_modell_motor', 0.009622671837856773),\n",
       " ('66_politisch_demokratie', 0.009520435686119617)]"
      ]
     },
     "execution_count": 21,
     "metadata": {},
     "output_type": "execute_result"
    }
   ],
   "source": [
    "from tmtoolkit.topicmod.model_stats import marginal_topic_distrib\n",
    "\n",
    "marg_topic = marginal_topic_distrib(doc_topic, doc_lengths)\n",
    "list(sorted(zip(topic_labels, marg_topic), key=lambda x: x[1], reverse=True))[:20]"
   ]
  },
  {
   "cell_type": "code",
   "execution_count": 22,
   "metadata": {},
   "outputs": [
    {
     "data": {
      "text/plain": [
       "0.1453778218044167"
      ]
     },
     "execution_count": 22,
     "metadata": {},
     "output_type": "execute_result"
    }
   ],
   "source": [
    "sum(marg_topic[covid19_topics])"
   ]
  },
  {
   "cell_type": "code",
   "execution_count": 23,
   "metadata": {},
   "outputs": [],
   "source": [
    "corpusmeta = unpickle_file('data/meta.pickle')"
   ]
  },
  {
   "cell_type": "code",
   "execution_count": 24,
   "metadata": {},
   "outputs": [
    {
     "data": {
      "text/plain": [
       "array(['2019-11-13', '2020-01-28', '2020-06-29', ..., '2019-12-28',\n",
       "       '2019-12-30', '2020-08-24'], dtype='datetime64[D]')"
      ]
     },
     "execution_count": 24,
     "metadata": {},
     "output_type": "execute_result"
    }
   ],
   "source": [
    "doc_dates = np.array([corpusmeta[d]['pub_date'] for d in doc_labels], dtype='datetime64')\n",
    "doc_dates"
   ]
  },
  {
   "cell_type": "code",
   "execution_count": 25,
   "metadata": {},
   "outputs": [
    {
     "data": {
      "text/plain": [
       "array([0.0069487 , 0.01105691, 0.00979545, ..., 0.01371037, 0.04933051,\n",
       "       0.488228  ])"
      ]
     },
     "execution_count": 25,
     "metadata": {},
     "output_type": "execute_result"
    }
   ],
   "source": [
    "marg_covid19 = np.sum(doc_topic[:, covid19_topics], axis=1)\n",
    "marg_covid19"
   ]
  },
  {
   "cell_type": "code",
   "execution_count": 26,
   "metadata": {
    "scrolled": false
   },
   "outputs": [
    {
     "data": {
      "text/html": [
       "<div>\n",
       "<style scoped>\n",
       "    .dataframe tbody tr th:only-of-type {\n",
       "        vertical-align: middle;\n",
       "    }\n",
       "\n",
       "    .dataframe tbody tr th {\n",
       "        vertical-align: top;\n",
       "    }\n",
       "\n",
       "    .dataframe thead th {\n",
       "        text-align: right;\n",
       "    }\n",
       "</style>\n",
       "<table border=\"1\" class=\"dataframe\">\n",
       "  <thead>\n",
       "    <tr style=\"text-align: right;\">\n",
       "      <th></th>\n",
       "      <th>label</th>\n",
       "      <th>date</th>\n",
       "      <th>length</th>\n",
       "      <th>marginal_covid19</th>\n",
       "    </tr>\n",
       "  </thead>\n",
       "  <tbody>\n",
       "    <tr>\n",
       "      <th>0</th>\n",
       "      <td>007-drehorte-in-europa-klimavertraeglicher-jam...</td>\n",
       "      <td>2019-11-13</td>\n",
       "      <td>310</td>\n",
       "      <td>0.006949</td>\n",
       "    </tr>\n",
       "    <tr>\n",
       "      <th>1</th>\n",
       "      <td>070-shake-in-berlin-vertrauensuebung-mit-einer...</td>\n",
       "      <td>2020-01-28</td>\n",
       "      <td>265</td>\n",
       "      <td>0.011057</td>\n",
       "    </tr>\n",
       "    <tr>\n",
       "      <th>2</th>\n",
       "      <td>1-fc-heidenheim-in-der-relegation-demoliert-in...</td>\n",
       "      <td>2020-06-29</td>\n",
       "      <td>226</td>\n",
       "      <td>0.009795</td>\n",
       "    </tr>\n",
       "    <tr>\n",
       "      <th>3</th>\n",
       "      <td>1-fc-heidenheim-unterliegt-werder-bremen-in-de...</td>\n",
       "      <td>2020-07-07</td>\n",
       "      <td>244</td>\n",
       "      <td>0.005234</td>\n",
       "    </tr>\n",
       "    <tr>\n",
       "      <th>4</th>\n",
       "      <td>1-fc-kaiserslautern-beantragt-in-der-3-liga-in...</td>\n",
       "      <td>2020-06-17</td>\n",
       "      <td>269</td>\n",
       "      <td>0.094734</td>\n",
       "    </tr>\n",
       "    <tr>\n",
       "      <th>...</th>\n",
       "      <td>...</td>\n",
       "      <td>...</td>\n",
       "      <td>...</td>\n",
       "      <td>...</td>\n",
       "    </tr>\n",
       "    <tr>\n",
       "      <th>32916</th>\n",
       "      <td>zwoelf-kinder-als-chefsache-a-d4533bfa-668c-49...</td>\n",
       "      <td>2020-04-11</td>\n",
       "      <td>421</td>\n",
       "      <td>0.129453</td>\n",
       "    </tr>\n",
       "    <tr>\n",
       "      <th>32917</th>\n",
       "      <td>zyklon-amphan-trifft-auf-indien-und-bangladesc...</td>\n",
       "      <td>2020-05-20</td>\n",
       "      <td>203</td>\n",
       "      <td>0.004783</td>\n",
       "    </tr>\n",
       "    <tr>\n",
       "      <th>32918</th>\n",
       "      <td>zypern-diebe-stehlen-koffer-mit-urne-darin-a-1...</td>\n",
       "      <td>2019-12-28</td>\n",
       "      <td>57</td>\n",
       "      <td>0.013710</td>\n",
       "    </tr>\n",
       "    <tr>\n",
       "      <th>32919</th>\n",
       "      <td>zypern-mutmassliche-urnendiebe-gefasst-familie...</td>\n",
       "      <td>2019-12-30</td>\n",
       "      <td>70</td>\n",
       "      <td>0.049331</td>\n",
       "    </tr>\n",
       "    <tr>\n",
       "      <th>32920</th>\n",
       "      <td>zytomegalie-was-schwangere-wissen-muessen-a-00...</td>\n",
       "      <td>2020-08-24</td>\n",
       "      <td>56</td>\n",
       "      <td>0.488228</td>\n",
       "    </tr>\n",
       "  </tbody>\n",
       "</table>\n",
       "<p>32921 rows × 4 columns</p>\n",
       "</div>"
      ],
      "text/plain": [
       "                                                   label       date  length  \\\n",
       "0      007-drehorte-in-europa-klimavertraeglicher-jam... 2019-11-13     310   \n",
       "1      070-shake-in-berlin-vertrauensuebung-mit-einer... 2020-01-28     265   \n",
       "2      1-fc-heidenheim-in-der-relegation-demoliert-in... 2020-06-29     226   \n",
       "3      1-fc-heidenheim-unterliegt-werder-bremen-in-de... 2020-07-07     244   \n",
       "4      1-fc-kaiserslautern-beantragt-in-der-3-liga-in... 2020-06-17     269   \n",
       "...                                                  ...        ...     ...   \n",
       "32916  zwoelf-kinder-als-chefsache-a-d4533bfa-668c-49... 2020-04-11     421   \n",
       "32917  zyklon-amphan-trifft-auf-indien-und-bangladesc... 2020-05-20     203   \n",
       "32918  zypern-diebe-stehlen-koffer-mit-urne-darin-a-1... 2019-12-28      57   \n",
       "32919  zypern-mutmassliche-urnendiebe-gefasst-familie... 2019-12-30      70   \n",
       "32920  zytomegalie-was-schwangere-wissen-muessen-a-00... 2020-08-24      56   \n",
       "\n",
       "       marginal_covid19  \n",
       "0              0.006949  \n",
       "1              0.011057  \n",
       "2              0.009795  \n",
       "3              0.005234  \n",
       "4              0.094734  \n",
       "...                 ...  \n",
       "32916          0.129453  \n",
       "32917          0.004783  \n",
       "32918          0.013710  \n",
       "32919          0.049331  \n",
       "32920          0.488228  \n",
       "\n",
       "[32921 rows x 4 columns]"
      ]
     },
     "execution_count": 26,
     "metadata": {},
     "output_type": "execute_result"
    }
   ],
   "source": [
    "docs_covid19 = pd.DataFrame({\n",
    "    'label': doc_labels,\n",
    "    'date': np.array([corpusmeta[d]['pub_date'] for d in doc_labels], dtype='datetime64'),\n",
    "    'length': doc_lengths,\n",
    "    'marginal_covid19': np.sum(doc_topic[:, covid19_topics], axis=1)\n",
    "})\n",
    "docs_covid19"
   ]
  },
  {
   "cell_type": "code",
   "execution_count": 27,
   "metadata": {},
   "outputs": [
    {
     "data": {
      "text/html": [
       "<div>\n",
       "<style scoped>\n",
       "    .dataframe tbody tr th:only-of-type {\n",
       "        vertical-align: middle;\n",
       "    }\n",
       "\n",
       "    .dataframe tbody tr th {\n",
       "        vertical-align: top;\n",
       "    }\n",
       "\n",
       "    .dataframe thead th {\n",
       "        text-align: right;\n",
       "    }\n",
       "</style>\n",
       "<table border=\"1\" class=\"dataframe\">\n",
       "  <thead>\n",
       "    <tr style=\"text-align: right;\">\n",
       "      <th></th>\n",
       "      <th>label</th>\n",
       "      <th>date</th>\n",
       "      <th>length</th>\n",
       "      <th>marginal_covid19</th>\n",
       "    </tr>\n",
       "  </thead>\n",
       "  <tbody>\n",
       "    <tr>\n",
       "      <th>8017</th>\n",
       "      <td>coronavirus-der-mund-nasen-schutz-ersetzt-nich...</td>\n",
       "      <td>2020-04-24</td>\n",
       "      <td>338</td>\n",
       "      <td>0.959562</td>\n",
       "    </tr>\n",
       "    <tr>\n",
       "      <th>8505</th>\n",
       "      <td>coronavirus-infizierte-genesene-tote-alle-live...</td>\n",
       "      <td>2020-03-18</td>\n",
       "      <td>394</td>\n",
       "      <td>0.946954</td>\n",
       "    </tr>\n",
       "    <tr>\n",
       "      <th>6949</th>\n",
       "      <td>corona-mundschutz-tragen-oder-nicht-tragen-a-e...</td>\n",
       "      <td>2020-04-02</td>\n",
       "      <td>391</td>\n",
       "      <td>0.934949</td>\n",
       "    </tr>\n",
       "    <tr>\n",
       "      <th>7130</th>\n",
       "      <td>corona-robert-koch-institut-meldet-hoechste-za...</td>\n",
       "      <td>2020-08-19</td>\n",
       "      <td>165</td>\n",
       "      <td>0.930488</td>\n",
       "    </tr>\n",
       "    <tr>\n",
       "      <th>32724</th>\n",
       "      <td>york-hovest-bildband-ueber-bedrohte-meere-und-...</td>\n",
       "      <td>2020-01-13</td>\n",
       "      <td>118</td>\n",
       "      <td>0.929479</td>\n",
       "    </tr>\n",
       "    <tr>\n",
       "      <th>...</th>\n",
       "      <td>...</td>\n",
       "      <td>...</td>\n",
       "      <td>...</td>\n",
       "      <td>...</td>\n",
       "    </tr>\n",
       "    <tr>\n",
       "      <th>2928</th>\n",
       "      <td>berlinale-2020-neuer-film-von-christian-petzol...</td>\n",
       "      <td>2020-02-23</td>\n",
       "      <td>794</td>\n",
       "      <td>0.001107</td>\n",
       "    </tr>\n",
       "    <tr>\n",
       "      <th>15348</th>\n",
       "      <td>grundrente-der-groko-wer-profitiert-und-wer-ni...</td>\n",
       "      <td>2019-11-12</td>\n",
       "      <td>817</td>\n",
       "      <td>0.001102</td>\n",
       "    </tr>\n",
       "    <tr>\n",
       "      <th>22974</th>\n",
       "      <td>niederlande-dsgvo-oma-muss-facebook-foto-ihres...</td>\n",
       "      <td>2020-05-22</td>\n",
       "      <td>881</td>\n",
       "      <td>0.001099</td>\n",
       "    </tr>\n",
       "    <tr>\n",
       "      <th>11708</th>\n",
       "      <td>eine-kuh-erklaert-die-welt-a-b4a34c61-2b89-447...</td>\n",
       "      <td>2020-02-25</td>\n",
       "      <td>855</td>\n",
       "      <td>0.001062</td>\n",
       "    </tr>\n",
       "    <tr>\n",
       "      <th>14862</th>\n",
       "      <td>globale-konjunktur-unruhe-ist-die-neue-normali...</td>\n",
       "      <td>2019-10-13</td>\n",
       "      <td>896</td>\n",
       "      <td>0.001006</td>\n",
       "    </tr>\n",
       "  </tbody>\n",
       "</table>\n",
       "<p>32921 rows × 4 columns</p>\n",
       "</div>"
      ],
      "text/plain": [
       "                                                   label       date  length  \\\n",
       "8017   coronavirus-der-mund-nasen-schutz-ersetzt-nich... 2020-04-24     338   \n",
       "8505   coronavirus-infizierte-genesene-tote-alle-live... 2020-03-18     394   \n",
       "6949   corona-mundschutz-tragen-oder-nicht-tragen-a-e... 2020-04-02     391   \n",
       "7130   corona-robert-koch-institut-meldet-hoechste-za... 2020-08-19     165   \n",
       "32724  york-hovest-bildband-ueber-bedrohte-meere-und-... 2020-01-13     118   \n",
       "...                                                  ...        ...     ...   \n",
       "2928   berlinale-2020-neuer-film-von-christian-petzol... 2020-02-23     794   \n",
       "15348  grundrente-der-groko-wer-profitiert-und-wer-ni... 2019-11-12     817   \n",
       "22974  niederlande-dsgvo-oma-muss-facebook-foto-ihres... 2020-05-22     881   \n",
       "11708  eine-kuh-erklaert-die-welt-a-b4a34c61-2b89-447... 2020-02-25     855   \n",
       "14862  globale-konjunktur-unruhe-ist-die-neue-normali... 2019-10-13     896   \n",
       "\n",
       "       marginal_covid19  \n",
       "8017           0.959562  \n",
       "8505           0.946954  \n",
       "6949           0.934949  \n",
       "7130           0.930488  \n",
       "32724          0.929479  \n",
       "...                 ...  \n",
       "2928           0.001107  \n",
       "15348          0.001102  \n",
       "22974          0.001099  \n",
       "11708          0.001062  \n",
       "14862          0.001006  \n",
       "\n",
       "[32921 rows x 4 columns]"
      ]
     },
     "execution_count": 27,
     "metadata": {},
     "output_type": "execute_result"
    }
   ],
   "source": [
    "docs_covid19.sort_values('marginal_covid19', ascending=False)"
   ]
  },
  {
   "cell_type": "code",
   "execution_count": 28,
   "metadata": {},
   "outputs": [
    {
     "data": {
      "text/html": [
       "<div>\n",
       "<style scoped>\n",
       "    .dataframe tbody tr th:only-of-type {\n",
       "        vertical-align: middle;\n",
       "    }\n",
       "\n",
       "    .dataframe tbody tr th {\n",
       "        vertical-align: top;\n",
       "    }\n",
       "\n",
       "    .dataframe thead th {\n",
       "        text-align: right;\n",
       "    }\n",
       "</style>\n",
       "<table border=\"1\" class=\"dataframe\">\n",
       "  <thead>\n",
       "    <tr style=\"text-align: right;\">\n",
       "      <th></th>\n",
       "      <th>label</th>\n",
       "      <th>date</th>\n",
       "      <th>length</th>\n",
       "      <th>marginal_covid19</th>\n",
       "      <th>weight</th>\n",
       "    </tr>\n",
       "  </thead>\n",
       "  <tbody>\n",
       "    <tr>\n",
       "      <th>0</th>\n",
       "      <td>007-drehorte-in-europa-klimavertraeglicher-jam...</td>\n",
       "      <td>2019-11-13</td>\n",
       "      <td>310</td>\n",
       "      <td>0.006949</td>\n",
       "      <td>0.013959</td>\n",
       "    </tr>\n",
       "    <tr>\n",
       "      <th>1</th>\n",
       "      <td>070-shake-in-berlin-vertrauensuebung-mit-einer...</td>\n",
       "      <td>2020-01-28</td>\n",
       "      <td>265</td>\n",
       "      <td>0.011057</td>\n",
       "      <td>0.013212</td>\n",
       "    </tr>\n",
       "    <tr>\n",
       "      <th>2</th>\n",
       "      <td>1-fc-heidenheim-in-der-relegation-demoliert-in...</td>\n",
       "      <td>2020-06-29</td>\n",
       "      <td>226</td>\n",
       "      <td>0.009795</td>\n",
       "      <td>0.011430</td>\n",
       "    </tr>\n",
       "    <tr>\n",
       "      <th>3</th>\n",
       "      <td>1-fc-heidenheim-unterliegt-werder-bremen-in-de...</td>\n",
       "      <td>2020-07-07</td>\n",
       "      <td>244</td>\n",
       "      <td>0.005234</td>\n",
       "      <td>0.011631</td>\n",
       "    </tr>\n",
       "    <tr>\n",
       "      <th>4</th>\n",
       "      <td>1-fc-kaiserslautern-beantragt-in-der-3-liga-in...</td>\n",
       "      <td>2020-06-17</td>\n",
       "      <td>269</td>\n",
       "      <td>0.094734</td>\n",
       "      <td>0.011453</td>\n",
       "    </tr>\n",
       "    <tr>\n",
       "      <th>...</th>\n",
       "      <td>...</td>\n",
       "      <td>...</td>\n",
       "      <td>...</td>\n",
       "      <td>...</td>\n",
       "      <td>...</td>\n",
       "    </tr>\n",
       "    <tr>\n",
       "      <th>32916</th>\n",
       "      <td>zwoelf-kinder-als-chefsache-a-d4533bfa-668c-49...</td>\n",
       "      <td>2020-04-11</td>\n",
       "      <td>421</td>\n",
       "      <td>0.129453</td>\n",
       "      <td>0.021682</td>\n",
       "    </tr>\n",
       "    <tr>\n",
       "      <th>32917</th>\n",
       "      <td>zyklon-amphan-trifft-auf-indien-und-bangladesc...</td>\n",
       "      <td>2020-05-20</td>\n",
       "      <td>203</td>\n",
       "      <td>0.004783</td>\n",
       "      <td>0.008875</td>\n",
       "    </tr>\n",
       "    <tr>\n",
       "      <th>32918</th>\n",
       "      <td>zypern-diebe-stehlen-koffer-mit-urne-darin-a-1...</td>\n",
       "      <td>2019-12-28</td>\n",
       "      <td>57</td>\n",
       "      <td>0.013710</td>\n",
       "      <td>0.004819</td>\n",
       "    </tr>\n",
       "    <tr>\n",
       "      <th>32919</th>\n",
       "      <td>zypern-mutmassliche-urnendiebe-gefasst-familie...</td>\n",
       "      <td>2019-12-30</td>\n",
       "      <td>70</td>\n",
       "      <td>0.049331</td>\n",
       "      <td>0.004296</td>\n",
       "    </tr>\n",
       "    <tr>\n",
       "      <th>32920</th>\n",
       "      <td>zytomegalie-was-schwangere-wissen-muessen-a-00...</td>\n",
       "      <td>2020-08-24</td>\n",
       "      <td>56</td>\n",
       "      <td>0.488228</td>\n",
       "      <td>0.002623</td>\n",
       "    </tr>\n",
       "  </tbody>\n",
       "</table>\n",
       "<p>32921 rows × 5 columns</p>\n",
       "</div>"
      ],
      "text/plain": [
       "                                                   label       date  length  \\\n",
       "0      007-drehorte-in-europa-klimavertraeglicher-jam... 2019-11-13     310   \n",
       "1      070-shake-in-berlin-vertrauensuebung-mit-einer... 2020-01-28     265   \n",
       "2      1-fc-heidenheim-in-der-relegation-demoliert-in... 2020-06-29     226   \n",
       "3      1-fc-heidenheim-unterliegt-werder-bremen-in-de... 2020-07-07     244   \n",
       "4      1-fc-kaiserslautern-beantragt-in-der-3-liga-in... 2020-06-17     269   \n",
       "...                                                  ...        ...     ...   \n",
       "32916  zwoelf-kinder-als-chefsache-a-d4533bfa-668c-49... 2020-04-11     421   \n",
       "32917  zyklon-amphan-trifft-auf-indien-und-bangladesc... 2020-05-20     203   \n",
       "32918  zypern-diebe-stehlen-koffer-mit-urne-darin-a-1... 2019-12-28      57   \n",
       "32919  zypern-mutmassliche-urnendiebe-gefasst-familie... 2019-12-30      70   \n",
       "32920  zytomegalie-was-schwangere-wissen-muessen-a-00... 2020-08-24      56   \n",
       "\n",
       "       marginal_covid19    weight  \n",
       "0              0.006949  0.013959  \n",
       "1              0.011057  0.013212  \n",
       "2              0.009795  0.011430  \n",
       "3              0.005234  0.011631  \n",
       "4              0.094734  0.011453  \n",
       "...                 ...       ...  \n",
       "32916          0.129453  0.021682  \n",
       "32917          0.004783  0.008875  \n",
       "32918          0.013710  0.004819  \n",
       "32919          0.049331  0.004296  \n",
       "32920          0.488228  0.002623  \n",
       "\n",
       "[32921 rows x 5 columns]"
      ]
     },
     "execution_count": 28,
     "metadata": {},
     "output_type": "execute_result"
    }
   ],
   "source": [
    "docs_covid19['weight'] = docs_covid19.groupby('date').length.transform(lambda g: g / g.sum())\n",
    "docs_covid19"
   ]
  },
  {
   "cell_type": "code",
   "execution_count": 29,
   "metadata": {},
   "outputs": [
    {
     "data": {
      "text/plain": [
       "True"
      ]
     },
     "execution_count": 29,
     "metadata": {},
     "output_type": "execute_result"
    }
   ],
   "source": [
    "np.allclose(docs_covid19.groupby('date').weight.sum(), 1.0)"
   ]
  },
  {
   "cell_type": "code",
   "execution_count": 30,
   "metadata": {},
   "outputs": [
    {
     "data": {
      "text/plain": [
       "date\n",
       "2019-10-01    0.045869\n",
       "2019-10-02    0.058730\n",
       "2019-10-03    0.053224\n",
       "2019-10-04    0.032393\n",
       "2019-10-05    0.028396\n",
       "                ...   \n",
       "2020-08-26    0.162066\n",
       "2020-08-27    0.160073\n",
       "2020-08-28    0.119419\n",
       "2020-08-29    0.124897\n",
       "2020-08-30    0.087180\n",
       "Length: 335, dtype: float64"
      ]
     },
     "execution_count": 30,
     "metadata": {},
     "output_type": "execute_result"
    }
   ],
   "source": [
    "ts_covid19topics = docs_covid19.groupby('date').apply(lambda g: (g.weight * g.marginal_covid19).sum())\n",
    "ts_covid19topics"
   ]
  },
  {
   "cell_type": "code",
   "execution_count": 31,
   "metadata": {},
   "outputs": [
    {
     "data": {
      "image/png": "[encoded data removed]",
      "text/plain": [
       "<Figure size 432x288 with 1 Axes>"
      ]
     },
     "metadata": {
      "needs_background": "light"
     },
     "output_type": "display_data"
    }
   ],
   "source": [
    "fig, ax = plt.subplots()\n",
    "\n",
    "ax.plot(ts_covid19topics.index, ts_covid19topics)\n",
    "fig;"
   ]
  },
  {
   "cell_type": "code",
   "execution_count": 32,
   "metadata": {},
   "outputs": [
    {
     "data": {
      "text/html": [
       "<div>\n",
       "<style scoped>\n",
       "    .dataframe tbody tr th:only-of-type {\n",
       "        vertical-align: middle;\n",
       "    }\n",
       "\n",
       "    .dataframe tbody tr th {\n",
       "        vertical-align: top;\n",
       "    }\n",
       "\n",
       "    .dataframe thead th {\n",
       "        text-align: right;\n",
       "    }\n",
       "</style>\n",
       "<table border=\"1\" class=\"dataframe\">\n",
       "  <thead>\n",
       "    <tr style=\"text-align: right;\">\n",
       "      <th></th>\n",
       "      <th>id</th>\n",
       "      <th>date</th>\n",
       "      <th>tests</th>\n",
       "      <th>confirmed</th>\n",
       "      <th>recovered</th>\n",
       "      <th>deaths</th>\n",
       "      <th>hosp</th>\n",
       "      <th>vent</th>\n",
       "      <th>icu</th>\n",
       "      <th>population</th>\n",
       "      <th>...</th>\n",
       "      <th>currency</th>\n",
       "      <th>administrative_area_level</th>\n",
       "      <th>administrative_area_level_1</th>\n",
       "      <th>administrative_area_level_2</th>\n",
       "      <th>administrative_area_level_3</th>\n",
       "      <th>latitude</th>\n",
       "      <th>longitude</th>\n",
       "      <th>key</th>\n",
       "      <th>key_apple_mobility</th>\n",
       "      <th>key_google_mobility</th>\n",
       "    </tr>\n",
       "  </thead>\n",
       "  <tbody>\n",
       "    <tr>\n",
       "      <th>0</th>\n",
       "      <td>AFG</td>\n",
       "      <td>2020-01-01</td>\n",
       "      <td>0</td>\n",
       "      <td>0</td>\n",
       "      <td>0</td>\n",
       "      <td>0</td>\n",
       "      <td>0</td>\n",
       "      <td>0</td>\n",
       "      <td>0</td>\n",
       "      <td>37172386</td>\n",
       "      <td>...</td>\n",
       "      <td>AFN</td>\n",
       "      <td>1</td>\n",
       "      <td>Afghanistan</td>\n",
       "      <td>NaN</td>\n",
       "      <td>NaN</td>\n",
       "      <td>33.0</td>\n",
       "      <td>65.0</td>\n",
       "      <td>NaN</td>\n",
       "      <td>NaN</td>\n",
       "      <td>AF</td>\n",
       "    </tr>\n",
       "    <tr>\n",
       "      <th>1</th>\n",
       "      <td>AFG</td>\n",
       "      <td>2020-01-02</td>\n",
       "      <td>0</td>\n",
       "      <td>0</td>\n",
       "      <td>0</td>\n",
       "      <td>0</td>\n",
       "      <td>0</td>\n",
       "      <td>0</td>\n",
       "      <td>0</td>\n",
       "      <td>37172386</td>\n",
       "      <td>...</td>\n",
       "      <td>AFN</td>\n",
       "      <td>1</td>\n",
       "      <td>Afghanistan</td>\n",
       "      <td>NaN</td>\n",
       "      <td>NaN</td>\n",
       "      <td>33.0</td>\n",
       "      <td>65.0</td>\n",
       "      <td>NaN</td>\n",
       "      <td>NaN</td>\n",
       "      <td>AF</td>\n",
       "    </tr>\n",
       "    <tr>\n",
       "      <th>2</th>\n",
       "      <td>AFG</td>\n",
       "      <td>2020-01-03</td>\n",
       "      <td>0</td>\n",
       "      <td>0</td>\n",
       "      <td>0</td>\n",
       "      <td>0</td>\n",
       "      <td>0</td>\n",
       "      <td>0</td>\n",
       "      <td>0</td>\n",
       "      <td>37172386</td>\n",
       "      <td>...</td>\n",
       "      <td>AFN</td>\n",
       "      <td>1</td>\n",
       "      <td>Afghanistan</td>\n",
       "      <td>NaN</td>\n",
       "      <td>NaN</td>\n",
       "      <td>33.0</td>\n",
       "      <td>65.0</td>\n",
       "      <td>NaN</td>\n",
       "      <td>NaN</td>\n",
       "      <td>AF</td>\n",
       "    </tr>\n",
       "    <tr>\n",
       "      <th>3</th>\n",
       "      <td>AFG</td>\n",
       "      <td>2020-01-04</td>\n",
       "      <td>0</td>\n",
       "      <td>0</td>\n",
       "      <td>0</td>\n",
       "      <td>0</td>\n",
       "      <td>0</td>\n",
       "      <td>0</td>\n",
       "      <td>0</td>\n",
       "      <td>37172386</td>\n",
       "      <td>...</td>\n",
       "      <td>AFN</td>\n",
       "      <td>1</td>\n",
       "      <td>Afghanistan</td>\n",
       "      <td>NaN</td>\n",
       "      <td>NaN</td>\n",
       "      <td>33.0</td>\n",
       "      <td>65.0</td>\n",
       "      <td>NaN</td>\n",
       "      <td>NaN</td>\n",
       "      <td>AF</td>\n",
       "    </tr>\n",
       "    <tr>\n",
       "      <th>4</th>\n",
       "      <td>AFG</td>\n",
       "      <td>2020-01-05</td>\n",
       "      <td>0</td>\n",
       "      <td>0</td>\n",
       "      <td>0</td>\n",
       "      <td>0</td>\n",
       "      <td>0</td>\n",
       "      <td>0</td>\n",
       "      <td>0</td>\n",
       "      <td>37172386</td>\n",
       "      <td>...</td>\n",
       "      <td>AFN</td>\n",
       "      <td>1</td>\n",
       "      <td>Afghanistan</td>\n",
       "      <td>NaN</td>\n",
       "      <td>NaN</td>\n",
       "      <td>33.0</td>\n",
       "      <td>65.0</td>\n",
       "      <td>NaN</td>\n",
       "      <td>NaN</td>\n",
       "      <td>AF</td>\n",
       "    </tr>\n",
       "    <tr>\n",
       "      <th>...</th>\n",
       "      <td>...</td>\n",
       "      <td>...</td>\n",
       "      <td>...</td>\n",
       "      <td>...</td>\n",
       "      <td>...</td>\n",
       "      <td>...</td>\n",
       "      <td>...</td>\n",
       "      <td>...</td>\n",
       "      <td>...</td>\n",
       "      <td>...</td>\n",
       "      <td>...</td>\n",
       "      <td>...</td>\n",
       "      <td>...</td>\n",
       "      <td>...</td>\n",
       "      <td>...</td>\n",
       "      <td>...</td>\n",
       "      <td>...</td>\n",
       "      <td>...</td>\n",
       "      <td>...</td>\n",
       "      <td>...</td>\n",
       "      <td>...</td>\n",
       "    </tr>\n",
       "    <tr>\n",
       "      <th>64471</th>\n",
       "      <td>ZWE</td>\n",
       "      <td>2020-11-15</td>\n",
       "      <td>153248</td>\n",
       "      <td>8829</td>\n",
       "      <td>8096</td>\n",
       "      <td>257</td>\n",
       "      <td>0</td>\n",
       "      <td>0</td>\n",
       "      <td>0</td>\n",
       "      <td>14439018</td>\n",
       "      <td>...</td>\n",
       "      <td>ZWD</td>\n",
       "      <td>1</td>\n",
       "      <td>Zimbabwe</td>\n",
       "      <td>NaN</td>\n",
       "      <td>NaN</td>\n",
       "      <td>-20.0</td>\n",
       "      <td>30.0</td>\n",
       "      <td>NaN</td>\n",
       "      <td>NaN</td>\n",
       "      <td>ZW</td>\n",
       "    </tr>\n",
       "    <tr>\n",
       "      <th>64472</th>\n",
       "      <td>ZWE</td>\n",
       "      <td>2020-11-16</td>\n",
       "      <td>153248</td>\n",
       "      <td>8897</td>\n",
       "      <td>8116</td>\n",
       "      <td>257</td>\n",
       "      <td>0</td>\n",
       "      <td>0</td>\n",
       "      <td>0</td>\n",
       "      <td>14439018</td>\n",
       "      <td>...</td>\n",
       "      <td>ZWD</td>\n",
       "      <td>1</td>\n",
       "      <td>Zimbabwe</td>\n",
       "      <td>NaN</td>\n",
       "      <td>NaN</td>\n",
       "      <td>-20.0</td>\n",
       "      <td>30.0</td>\n",
       "      <td>NaN</td>\n",
       "      <td>NaN</td>\n",
       "      <td>ZW</td>\n",
       "    </tr>\n",
       "    <tr>\n",
       "      <th>64473</th>\n",
       "      <td>ZWE</td>\n",
       "      <td>2020-11-17</td>\n",
       "      <td>153248</td>\n",
       "      <td>8945</td>\n",
       "      <td>8164</td>\n",
       "      <td>260</td>\n",
       "      <td>0</td>\n",
       "      <td>0</td>\n",
       "      <td>0</td>\n",
       "      <td>14439018</td>\n",
       "      <td>...</td>\n",
       "      <td>ZWD</td>\n",
       "      <td>1</td>\n",
       "      <td>Zimbabwe</td>\n",
       "      <td>NaN</td>\n",
       "      <td>NaN</td>\n",
       "      <td>-20.0</td>\n",
       "      <td>30.0</td>\n",
       "      <td>NaN</td>\n",
       "      <td>NaN</td>\n",
       "      <td>ZW</td>\n",
       "    </tr>\n",
       "    <tr>\n",
       "      <th>64474</th>\n",
       "      <td>ZWE</td>\n",
       "      <td>2020-11-18</td>\n",
       "      <td>153248</td>\n",
       "      <td>8981</td>\n",
       "      <td>8184</td>\n",
       "      <td>261</td>\n",
       "      <td>0</td>\n",
       "      <td>0</td>\n",
       "      <td>0</td>\n",
       "      <td>14439018</td>\n",
       "      <td>...</td>\n",
       "      <td>ZWD</td>\n",
       "      <td>1</td>\n",
       "      <td>Zimbabwe</td>\n",
       "      <td>NaN</td>\n",
       "      <td>NaN</td>\n",
       "      <td>-20.0</td>\n",
       "      <td>30.0</td>\n",
       "      <td>NaN</td>\n",
       "      <td>NaN</td>\n",
       "      <td>ZW</td>\n",
       "    </tr>\n",
       "    <tr>\n",
       "      <th>64475</th>\n",
       "      <td>ZWE</td>\n",
       "      <td>2020-11-19</td>\n",
       "      <td>153248</td>\n",
       "      <td>8981</td>\n",
       "      <td>8184</td>\n",
       "      <td>261</td>\n",
       "      <td>0</td>\n",
       "      <td>0</td>\n",
       "      <td>0</td>\n",
       "      <td>14439018</td>\n",
       "      <td>...</td>\n",
       "      <td>ZWD</td>\n",
       "      <td>1</td>\n",
       "      <td>Zimbabwe</td>\n",
       "      <td>NaN</td>\n",
       "      <td>NaN</td>\n",
       "      <td>-20.0</td>\n",
       "      <td>30.0</td>\n",
       "      <td>NaN</td>\n",
       "      <td>NaN</td>\n",
       "      <td>ZW</td>\n",
       "    </tr>\n",
       "  </tbody>\n",
       "</table>\n",
       "<p>64476 rows × 35 columns</p>\n",
       "</div>"
      ],
      "text/plain": [
       "        id       date   tests  confirmed  recovered  deaths  hosp  vent  icu  \\\n",
       "0      AFG 2020-01-01       0          0          0       0     0     0    0   \n",
       "1      AFG 2020-01-02       0          0          0       0     0     0    0   \n",
       "2      AFG 2020-01-03       0          0          0       0     0     0    0   \n",
       "3      AFG 2020-01-04       0          0          0       0     0     0    0   \n",
       "4      AFG 2020-01-05       0          0          0       0     0     0    0   \n",
       "...    ...        ...     ...        ...        ...     ...   ...   ...  ...   \n",
       "64471  ZWE 2020-11-15  153248       8829       8096     257     0     0    0   \n",
       "64472  ZWE 2020-11-16  153248       8897       8116     257     0     0    0   \n",
       "64473  ZWE 2020-11-17  153248       8945       8164     260     0     0    0   \n",
       "64474  ZWE 2020-11-18  153248       8981       8184     261     0     0    0   \n",
       "64475  ZWE 2020-11-19  153248       8981       8184     261     0     0    0   \n",
       "\n",
       "       population  ...  currency  administrative_area_level  \\\n",
       "0        37172386  ...       AFN                          1   \n",
       "1        37172386  ...       AFN                          1   \n",
       "2        37172386  ...       AFN                          1   \n",
       "3        37172386  ...       AFN                          1   \n",
       "4        37172386  ...       AFN                          1   \n",
       "...           ...  ...       ...                        ...   \n",
       "64471    14439018  ...       ZWD                          1   \n",
       "64472    14439018  ...       ZWD                          1   \n",
       "64473    14439018  ...       ZWD                          1   \n",
       "64474    14439018  ...       ZWD                          1   \n",
       "64475    14439018  ...       ZWD                          1   \n",
       "\n",
       "       administrative_area_level_1  administrative_area_level_2  \\\n",
       "0                      Afghanistan                          NaN   \n",
       "1                      Afghanistan                          NaN   \n",
       "2                      Afghanistan                          NaN   \n",
       "3                      Afghanistan                          NaN   \n",
       "4                      Afghanistan                          NaN   \n",
       "...                            ...                          ...   \n",
       "64471                     Zimbabwe                          NaN   \n",
       "64472                     Zimbabwe                          NaN   \n",
       "64473                     Zimbabwe                          NaN   \n",
       "64474                     Zimbabwe                          NaN   \n",
       "64475                     Zimbabwe                          NaN   \n",
       "\n",
       "       administrative_area_level_3  latitude  longitude  key  \\\n",
       "0                              NaN      33.0       65.0  NaN   \n",
       "1                              NaN      33.0       65.0  NaN   \n",
       "2                              NaN      33.0       65.0  NaN   \n",
       "3                              NaN      33.0       65.0  NaN   \n",
       "4                              NaN      33.0       65.0  NaN   \n",
       "...                            ...       ...        ...  ...   \n",
       "64471                          NaN     -20.0       30.0  NaN   \n",
       "64472                          NaN     -20.0       30.0  NaN   \n",
       "64473                          NaN     -20.0       30.0  NaN   \n",
       "64474                          NaN     -20.0       30.0  NaN   \n",
       "64475                          NaN     -20.0       30.0  NaN   \n",
       "\n",
       "       key_apple_mobility  key_google_mobility  \n",
       "0                     NaN                   AF  \n",
       "1                     NaN                   AF  \n",
       "2                     NaN                   AF  \n",
       "3                     NaN                   AF  \n",
       "4                     NaN                   AF  \n",
       "...                   ...                  ...  \n",
       "64471                 NaN                   ZW  \n",
       "64472                 NaN                   ZW  \n",
       "64473                 NaN                   ZW  \n",
       "64474                 NaN                   ZW  \n",
       "64475                 NaN                   ZW  \n",
       "\n",
       "[64476 rows x 35 columns]"
      ]
     },
     "execution_count": 32,
     "metadata": {},
     "output_type": "execute_result"
    }
   ],
   "source": [
    "coviddatahub_full = pd.read_csv('data/covid19datahub-2020-11-19.csv')\n",
    "coviddatahub_full['date'] = pd.to_datetime(coviddatahub_full.date)\n",
    "coviddatahub_full"
   ]
  },
  {
   "cell_type": "code",
   "execution_count": 33,
   "metadata": {},
   "outputs": [],
   "source": [
    "coviddatahub = coviddatahub_full.loc[\n",
    "    (coviddatahub_full.date >= '2020-01-01') & (coviddatahub_full.date <= docs_covid19.date.max()),\n",
    "    ['id', 'date', 'confirmed', 'administrative_area_level_1']\n",
    "]"
   ]
  },
  {
   "cell_type": "code",
   "execution_count": 34,
   "metadata": {},
   "outputs": [
    {
     "data": {
      "text/html": [
       "<div>\n",
       "<style scoped>\n",
       "    .dataframe tbody tr th:only-of-type {\n",
       "        vertical-align: middle;\n",
       "    }\n",
       "\n",
       "    .dataframe tbody tr th {\n",
       "        vertical-align: top;\n",
       "    }\n",
       "\n",
       "    .dataframe thead th {\n",
       "        text-align: right;\n",
       "    }\n",
       "</style>\n",
       "<table border=\"1\" class=\"dataframe\">\n",
       "  <thead>\n",
       "    <tr style=\"text-align: right;\">\n",
       "      <th></th>\n",
       "      <th>id</th>\n",
       "      <th>date</th>\n",
       "      <th>confirmed</th>\n",
       "      <th>administrative_area_level_1</th>\n",
       "      <th>daily</th>\n",
       "    </tr>\n",
       "  </thead>\n",
       "  <tbody>\n",
       "    <tr>\n",
       "      <th>0</th>\n",
       "      <td>AFG</td>\n",
       "      <td>2020-01-01</td>\n",
       "      <td>0</td>\n",
       "      <td>Afghanistan</td>\n",
       "      <td>0</td>\n",
       "    </tr>\n",
       "    <tr>\n",
       "      <th>1</th>\n",
       "      <td>AFG</td>\n",
       "      <td>2020-01-02</td>\n",
       "      <td>0</td>\n",
       "      <td>Afghanistan</td>\n",
       "      <td>0</td>\n",
       "    </tr>\n",
       "    <tr>\n",
       "      <th>2</th>\n",
       "      <td>AFG</td>\n",
       "      <td>2020-01-03</td>\n",
       "      <td>0</td>\n",
       "      <td>Afghanistan</td>\n",
       "      <td>0</td>\n",
       "    </tr>\n",
       "    <tr>\n",
       "      <th>3</th>\n",
       "      <td>AFG</td>\n",
       "      <td>2020-01-04</td>\n",
       "      <td>0</td>\n",
       "      <td>Afghanistan</td>\n",
       "      <td>0</td>\n",
       "    </tr>\n",
       "    <tr>\n",
       "      <th>4</th>\n",
       "      <td>AFG</td>\n",
       "      <td>2020-01-05</td>\n",
       "      <td>0</td>\n",
       "      <td>Afghanistan</td>\n",
       "      <td>0</td>\n",
       "    </tr>\n",
       "    <tr>\n",
       "      <th>...</th>\n",
       "      <td>...</td>\n",
       "      <td>...</td>\n",
       "      <td>...</td>\n",
       "      <td>...</td>\n",
       "      <td>...</td>\n",
       "    </tr>\n",
       "    <tr>\n",
       "      <th>64390</th>\n",
       "      <td>ZWE</td>\n",
       "      <td>2020-08-26</td>\n",
       "      <td>6251</td>\n",
       "      <td>Zimbabwe</td>\n",
       "      <td>55</td>\n",
       "    </tr>\n",
       "    <tr>\n",
       "      <th>64391</th>\n",
       "      <td>ZWE</td>\n",
       "      <td>2020-08-27</td>\n",
       "      <td>6292</td>\n",
       "      <td>Zimbabwe</td>\n",
       "      <td>41</td>\n",
       "    </tr>\n",
       "    <tr>\n",
       "      <th>64392</th>\n",
       "      <td>ZWE</td>\n",
       "      <td>2020-08-28</td>\n",
       "      <td>6388</td>\n",
       "      <td>Zimbabwe</td>\n",
       "      <td>96</td>\n",
       "    </tr>\n",
       "    <tr>\n",
       "      <th>64393</th>\n",
       "      <td>ZWE</td>\n",
       "      <td>2020-08-29</td>\n",
       "      <td>6406</td>\n",
       "      <td>Zimbabwe</td>\n",
       "      <td>18</td>\n",
       "    </tr>\n",
       "    <tr>\n",
       "      <th>64394</th>\n",
       "      <td>ZWE</td>\n",
       "      <td>2020-08-30</td>\n",
       "      <td>6412</td>\n",
       "      <td>Zimbabwe</td>\n",
       "      <td>6</td>\n",
       "    </tr>\n",
       "  </tbody>\n",
       "</table>\n",
       "<p>48357 rows × 5 columns</p>\n",
       "</div>"
      ],
      "text/plain": [
       "        id       date  confirmed administrative_area_level_1  daily\n",
       "0      AFG 2020-01-01          0                 Afghanistan      0\n",
       "1      AFG 2020-01-02          0                 Afghanistan      0\n",
       "2      AFG 2020-01-03          0                 Afghanistan      0\n",
       "3      AFG 2020-01-04          0                 Afghanistan      0\n",
       "4      AFG 2020-01-05          0                 Afghanistan      0\n",
       "...    ...        ...        ...                         ...    ...\n",
       "64390  ZWE 2020-08-26       6251                    Zimbabwe     55\n",
       "64391  ZWE 2020-08-27       6292                    Zimbabwe     41\n",
       "64392  ZWE 2020-08-28       6388                    Zimbabwe     96\n",
       "64393  ZWE 2020-08-29       6406                    Zimbabwe     18\n",
       "64394  ZWE 2020-08-30       6412                    Zimbabwe      6\n",
       "\n",
       "[48357 rows x 5 columns]"
      ]
     },
     "execution_count": 34,
     "metadata": {},
     "output_type": "execute_result"
    }
   ],
   "source": [
    "coviddatahub['daily'] = coviddatahub.groupby('id').confirmed.diff().fillna(0).astype(np.int)\n",
    "coviddatahub"
   ]
  },
  {
   "cell_type": "code",
   "execution_count": 35,
   "metadata": {},
   "outputs": [],
   "source": [
    "coviddata_de = coviddatahub.loc[coviddatahub.id == 'DEU', :]"
   ]
  },
  {
   "cell_type": "code",
   "execution_count": 36,
   "metadata": {},
   "outputs": [
    {
     "data": {
      "image/png": "[encoded data removed]",
      "text/plain": [
       "<Figure size 432x288 with 1 Axes>"
      ]
     },
     "metadata": {
      "needs_background": "light"
     },
     "output_type": "display_data"
    }
   ],
   "source": [
    "fig, ax = plt.subplots()\n",
    "\n",
    "ax.plot(coviddata_de.date, coviddata_de.daily)\n",
    "fig;"
   ]
  },
  {
   "cell_type": "code",
   "execution_count": 37,
   "metadata": {},
   "outputs": [],
   "source": [
    "coviddata_world = coviddatahub.groupby('date').daily.sum()"
   ]
  },
  {
   "cell_type": "code",
   "execution_count": 38,
   "metadata": {},
   "outputs": [
    {
     "data": {
      "image/png": "[encoded data removed]",
      "text/plain": [
       "<Figure size 432x288 with 1 Axes>"
      ]
     },
     "metadata": {
      "needs_background": "light"
     },
     "output_type": "display_data"
    }
   ],
   "source": [
    "fig, ax = plt.subplots()\n",
    "\n",
    "ax.plot(coviddata_world.index, coviddata_world)\n",
    "fig;"
   ]
  },
  {
   "cell_type": "code",
   "execution_count": 39,
   "metadata": {},
   "outputs": [],
   "source": [
    "ts_covid19topics2020 = ts_covid19topics[ts_covid19topics.index >= '2020-01-01']"
   ]
  },
  {
   "cell_type": "code",
   "execution_count": 40,
   "metadata": {},
   "outputs": [
    {
     "data": {
      "image/png": "[encoded data removed]",
      "text/plain": [
       "<Figure size 432x288 with 1 Axes>"
      ]
     },
     "metadata": {
      "needs_background": "light"
     },
     "output_type": "display_data"
    }
   ],
   "source": [
    "fig, ax = plt.subplots()\n",
    "\n",
    "ax.scatter(coviddata_de.daily, ts_covid19topics2020)\n",
    "fig;"
   ]
  },
  {
   "cell_type": "code",
   "execution_count": 45,
   "metadata": {},
   "outputs": [
    {
     "data": {
      "image/png": "[encoded data removed]",
      "text/plain": [
       "<Figure size 432x288 with 1 Axes>"
      ]
     },
     "metadata": {
      "needs_background": "light"
     },
     "output_type": "display_data"
    }
   ],
   "source": [
    "fig, ax = plt.subplots()\n",
    "\n",
    "ax.scatter(np.log10(1 + coviddata_de.daily), ts_covid19topics2020)\n",
    "fig;"
   ]
  },
  {
   "cell_type": "code",
   "execution_count": 41,
   "metadata": {},
   "outputs": [
    {
     "data": {
      "image/png": "[encoded data removed]",
      "text/plain": [
       "<Figure size 432x288 with 1 Axes>"
      ]
     },
     "metadata": {
      "needs_background": "light"
     },
     "output_type": "display_data"
    }
   ],
   "source": [
    "fig, ax = plt.subplots()\n",
    "\n",
    "ax.scatter(coviddata_world, ts_covid19topics2020)\n",
    "fig;"
   ]
  },
  {
   "cell_type": "code",
   "execution_count": 46,
   "metadata": {},
   "outputs": [
    {
     "data": {
      "image/png": "[encoded data removed]",
      "text/plain": [
       "<Figure size 432x288 with 1 Axes>"
      ]
     },
     "metadata": {
      "needs_background": "light"
     },
     "output_type": "display_data"
    }
   ],
   "source": [
    "fig, ax = plt.subplots()\n",
    "\n",
    "ax.scatter(np.log10(1 + coviddata_world), ts_covid19topics2020)\n",
    "fig;"
   ]
  }
 ],
 "metadata": {
  "kernelspec": {
   "display_name": "Python 3",
   "language": "python",
   "name": "python3"
  },
  "language_info": {
   "codemirror_mode": {
    "name": "ipython",
    "version": 3
   },
   "file_extension": ".py",
   "mimetype": "text/x-python",
   "name": "python",
   "nbconvert_exporter": "python",
   "pygments_lexer": "ipython3",
   "version": "3.8.5"
  }
 },
 "nbformat": 4,
 "nbformat_minor": 4
}
