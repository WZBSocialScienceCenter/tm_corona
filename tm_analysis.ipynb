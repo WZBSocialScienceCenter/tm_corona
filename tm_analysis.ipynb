{
 "cells": [
  {
   "cell_type": "markdown",
   "metadata": {},
   "source": [
    "# Spiegel Online news topics and COVID-19\n",
    "\n",
    "## A topic modeling approach\n",
    "\n",
    "November 24, 2020 | Markus Konrad <markus.konrad@wzb.eu> | [WZB / Berlin Social Science Center](https://wzb.eu/)\n",
    "\n",
    "This is the main part of a small project to showcase topic modeling with the [tmtoolkit Python package](https://tmtoolkit.readthedocs.io/), where I use a corpus of *[Spiegel Online (SPON)](https://www.spiegel.de/)* news articles to create a topic model for before and during the COVID-19 pandemic. In the notebook at hand, I load and investigate the generated topic model and identify COVID-19 related topics. I then show how the share of COVID-19 related topics – as a measure of media coverage on COVID-19 – developed during the pandemic and, as a quick example, how this relates to national and global COVID-19 infection rates.\n",
    "\n",
    "Currently, a time span from Oct. 2019 to end of Aug. 2020 is covered but I plan to give an update for a time span until end of Nov. 2020.\n",
    "\n",
    "The results of other Python scripts in this repository enter this notebook, namely:\n",
    "\n",
    "1. text data preparation in [`prepare.py`](prepare.py)\n",
    "2. topic model evaluation in [`tm_evaluation.py`](tm_evaluation.py)\n",
    "3. generation of final candidate topic models in [`tm_final.py`](tm_final.py)\n",
    "\n",
    "Please have a look at the [GitHub repository](https://github.com/WZBSocialScienceCenter/tm_corona) which contains all necessary files."
   ]
  },
  {
   "cell_type": "code",
   "execution_count": 1,
   "metadata": {
    "execution": {
     "iopub.execute_input": "2020-11-23T16:59:02.528266Z",
     "iopub.status.busy": "2020-11-23T16:59:02.526422Z",
     "iopub.status.idle": "2020-11-23T16:59:02.787704Z",
     "shell.execute_reply": "2020-11-23T16:59:02.788111Z"
    }
   },
   "outputs": [],
   "source": [
    "import numpy as np\n",
    "import pandas as pd\n",
    "\n",
    "pd.options.display.max_rows = 200"
   ]
  },
  {
   "cell_type": "markdown",
   "metadata": {},
   "source": [
    "## Data loading"
   ]
  },
  {
   "cell_type": "markdown",
   "metadata": {},
   "source": [
    "We load a candidate model that was generated in `tm_final.py` (for this example, we only investigate the first of the candidate models that are stored in `'data/tm_final_results.pickle'`)."
   ]
  },
  {
   "cell_type": "code",
   "execution_count": 2,
   "metadata": {
    "execution": {
     "iopub.execute_input": "2020-11-23T16:59:02.791924Z",
     "iopub.status.busy": "2020-11-23T16:59:02.791431Z",
     "iopub.status.idle": "2020-11-23T16:59:03.343285Z",
     "shell.execute_reply": "2020-11-23T16:59:03.343665Z"
    }
   },
   "outputs": [
    {
     "data": {
      "text/plain": [
       "((32921, 180), (180, 3278))"
      ]
     },
     "execution_count": 2,
     "metadata": {},
     "output_type": "execute_result"
    }
   ],
   "source": [
    "from tmtoolkit.utils import unpickle_file\n",
    "\n",
    "ldamodel = unpickle_file('data/tm_final_k180_eta0.7.pickle')\n",
    "\n",
    "doc_topic = ldamodel.doc_topic_\n",
    "topic_word = ldamodel.topic_word_\n",
    "\n",
    "doc_topic.shape, topic_word.shape"
   ]
  },
  {
   "cell_type": "markdown",
   "metadata": {},
   "source": [
    "We see that we have a model with 180 topics. The shape of the document-topic and topic-word distributions tell us also the number of documents (32,921) and the vocabulary size (3,278) for which the model was generated."
   ]
  },
  {
   "cell_type": "markdown",
   "metadata": {},
   "source": [
    "We load the document labels, vocabulary and document-term matrix (DTM) which were genereted in `prepare.py`."
   ]
  },
  {
   "cell_type": "code",
   "execution_count": 3,
   "metadata": {
    "execution": {
     "iopub.execute_input": "2020-11-23T16:59:03.347354Z",
     "iopub.status.busy": "2020-11-23T16:59:03.346874Z",
     "iopub.status.idle": "2020-11-23T16:59:03.388141Z",
     "shell.execute_reply": "2020-11-23T16:59:03.387711Z"
    }
   },
   "outputs": [
    {
     "data": {
      "text/plain": [
       "(32921, 3278, (32921, 3278))"
      ]
     },
     "execution_count": 3,
     "metadata": {},
     "output_type": "execute_result"
    }
   ],
   "source": [
    "doc_labels, vocab, dtm = unpickle_file('data/dtm.pickle')\n",
    "doc_labels = np.array(doc_labels)\n",
    "vocab = np.array(vocab)\n",
    "len(doc_labels), len(vocab), dtm.shape"
   ]
  },
  {
   "cell_type": "markdown",
   "metadata": {},
   "source": [
    "The dimensions of the DTM fit to the number of documents and vocabulary size."
   ]
  },
  {
   "cell_type": "markdown",
   "metadata": {},
   "source": [
    "First ten document labels:"
   ]
  },
  {
   "cell_type": "code",
   "execution_count": 4,
   "metadata": {
    "execution": {
     "iopub.execute_input": "2020-11-23T16:59:03.391865Z",
     "iopub.status.busy": "2020-11-23T16:59:03.391303Z",
     "iopub.status.idle": "2020-11-23T16:59:03.394288Z",
     "shell.execute_reply": "2020-11-23T16:59:03.393868Z"
    }
   },
   "outputs": [
    {
     "data": {
      "text/plain": [
       "array(['007-drehorte-in-europa-klimavertraeglicher-james-bond-a-1295233',\n",
       "       '070-shake-in-berlin-vertrauensuebung-mit-einer-emo-rapperin-a-7c4a0eb3-7c1b-474c-aaee-f2de6e165362',\n",
       "       '1-fc-heidenheim-in-der-relegation-demoliert-in-die-groessten-spiele-der-vereinsgeschichte-a-383ce249-6865-4bfa-a8ea-2a89894ad7b2',\n",
       "       '1-fc-heidenheim-unterliegt-werder-bremen-in-der-relegation-da-helfen-auch-keine-klatschpfannen-a-ea0861b0-dd7c-403a-99ab-38b6c25c7aed',\n",
       "       '1-fc-kaiserslautern-beantragt-in-der-3-liga-insolvenz-pfaelzer-sauplan-a-69b7ee5a-5cc8-4f8c-9f67-c5f455a3ec9f',\n",
       "       '1-fc-kaiserslautern-fussball-drittligist-stellt-antrag-auf-plan-insolvenz-a-fb530286-9b7b-4cd7-ae1f-9a876cc3f700',\n",
       "       '1-fc-koeln-beendet-kooperation-mit-china-totaler-ueberwachungsstaat-a-1301960',\n",
       "       '1-fc-koeln-holt-horst-heldt-und-markus-gisdol-neue-gesichter-alte-zweifel-a-1297292',\n",
       "       '1-fc-koeln-kontert-kuendigung-eines-mitglieds-wegen-moschee-auf-dem-trikot-a-0fc58882-dffd-4f84-a157-6ba1d86061ca',\n",
       "       '1-fc-koeln-markus-gisdol-soll-neuer-trainer-werden-a-1297085'],\n",
       "      dtype='<U190')"
      ]
     },
     "execution_count": 4,
     "metadata": {},
     "output_type": "execute_result"
    }
   ],
   "source": [
    "doc_labels[:10]"
   ]
  },
  {
   "cell_type": "markdown",
   "metadata": {},
   "source": [
    "First ten terms in vocabulary:"
   ]
  },
  {
   "cell_type": "code",
   "execution_count": 5,
   "metadata": {
    "execution": {
     "iopub.execute_input": "2020-11-23T16:59:03.397825Z",
     "iopub.status.busy": "2020-11-23T16:59:03.397315Z",
     "iopub.status.idle": "2020-11-23T16:59:03.400159Z",
     "shell.execute_reply": "2020-11-23T16:59:03.399736Z"
    }
   },
   "outputs": [
    {
     "data": {
      "text/plain": [
       "array(['10', '11', '20', 'ab', 'abbauen', 'abbrechen', 'abend', 'abends',\n",
       "       'abgeben', 'abgeordnete'], dtype='<U27')"
      ]
     },
     "execution_count": 5,
     "metadata": {},
     "output_type": "execute_result"
    }
   ],
   "source": [
    "vocab[:10]"
   ]
  },
  {
   "cell_type": "markdown",
   "metadata": {},
   "source": [
    "DTM is a large sparse matrix with the expected dimensions:"
   ]
  },
  {
   "cell_type": "code",
   "execution_count": 6,
   "metadata": {
    "execution": {
     "iopub.execute_input": "2020-11-23T16:59:03.403581Z",
     "iopub.status.busy": "2020-11-23T16:59:03.403006Z",
     "iopub.status.idle": "2020-11-23T16:59:03.405485Z",
     "shell.execute_reply": "2020-11-23T16:59:03.405868Z"
    }
   },
   "outputs": [
    {
     "data": {
      "text/plain": [
       "<32921x3278 sparse matrix of type '<class 'numpy.int32'>'\n",
       "\twith 4247828 stored elements in Compressed Sparse Row format>"
      ]
     },
     "execution_count": 6,
     "metadata": {},
     "output_type": "execute_result"
    }
   ],
   "source": [
    "dtm"
   ]
  },
  {
   "cell_type": "markdown",
   "metadata": {},
   "source": [
    "## Investigating the topic model"
   ]
  },
  {
   "cell_type": "markdown",
   "metadata": {},
   "source": [
    "Let's investigate how quick the probabilities in the topic-word matrix fall with the term ranks. For each topic (i.e. each row in the topic-word matrix), we sort the term probabilities in descending order and plot these sorted topic-specific term probabilities.\n",
    "\n",
    "Note: I will add a function for such plots to the next major version of [tmtoolkit](https://tmtoolkit.readthedocs.io/)."
   ]
  },
  {
   "cell_type": "code",
   "execution_count": 7,
   "metadata": {
    "execution": {
     "iopub.execute_input": "2020-11-23T16:59:03.410246Z",
     "iopub.status.busy": "2020-11-23T16:59:03.409647Z",
     "iopub.status.idle": "2020-11-23T16:59:03.912510Z",
     "shell.execute_reply": "2020-11-23T16:59:03.912119Z"
    }
   },
   "outputs": [
    {
     "data": {
      "image/png": "[encoded data removed]",
      "text/plain": [
       "<Figure size 576x432 with 1 Axes>"
      ]
     },
     "metadata": {
      "needs_background": "light"
     },
     "output_type": "display_data"
    }
   ],
   "source": [
    "import matplotlib.pyplot as plt\n",
    "\n",
    "# rowwise sorting \n",
    "# (NumPy still doesn't support descending order, hence the \"-\" hack)\n",
    "topic_word_desc = -np.sort(-topic_word, axis=1)   \n",
    "\n",
    "fig, ax = plt.subplots(figsize=(8, 6))\n",
    "n_terms = 40  # show ranks 1 to 40\n",
    "term_ranks = np.arange(1, n_terms+1)\n",
    "for t in topic_word_desc:\n",
    "    ax.plot(term_ranks, t[:n_terms], color = 'black', alpha=0.1)\n",
    "\n",
    "ax.set_title('Term probability decline per topic')\n",
    "ax.set_xlabel('term rank')\n",
    "ax.set_ylabel('term probability for given topic')\n",
    "fig;"
   ]
  },
  {
   "cell_type": "markdown",
   "metadata": {},
   "source": [
    "This shows us that if we rank the terms in each topic, only the first five to ten terms really represent the topic. All other terms are really close to each other regarding their probabilities, so their ranking becomes more or less meaningless.\n",
    "\n",
    "This finding helps us to later focus on the top five or so terms in each topic, when we try to interpret the top terms per topic.\n",
    "\n",
    "When we look closely, we see that the ordered probability distribution for three of the 180 topics seems special compared to the other topics. Let's highlight these topics. We want to identify the three topics that stand out in the plot above, i.e that have the highest term probability at the term ranks 1, 7 and 25:"
   ]
  },
  {
   "cell_type": "code",
   "execution_count": 8,
   "metadata": {
    "execution": {
     "iopub.execute_input": "2020-11-23T16:59:03.915847Z",
     "iopub.status.busy": "2020-11-23T16:59:03.915244Z",
     "iopub.status.idle": "2020-11-23T16:59:03.918359Z",
     "shell.execute_reply": "2020-11-23T16:59:03.917930Z"
    }
   },
   "outputs": [
    {
     "data": {
      "text/plain": [
       "array([131, 158,  93])"
      ]
     },
     "execution_count": 8,
     "metadata": {},
     "output_type": "execute_result"
    }
   ],
   "source": [
    "# we use indices for the ranks here, hence we start at 0\n",
    "highlight_topics = np.argsort(-topic_word_desc[:, [0, 7, 24]], axis=0)[0, :]\n",
    "highlight_topics"
   ]
  },
  {
   "cell_type": "markdown",
   "metadata": {},
   "source": [
    "Let's plot these results. This time, we use a log-scale for the y-axis to be able to better descern the individual topics:"
   ]
  },
  {
   "cell_type": "code",
   "execution_count": 9,
   "metadata": {
    "execution": {
     "iopub.execute_input": "2020-11-23T16:59:03.934091Z",
     "iopub.status.busy": "2020-11-23T16:59:03.933062Z",
     "iopub.status.idle": "2020-11-23T16:59:04.542430Z",
     "shell.execute_reply": "2020-11-23T16:59:04.542776Z"
    }
   },
   "outputs": [
    {
     "data": {
      "image/png": "[encoded data removed]",
      "text/plain": [
       "<Figure size 576x432 with 1 Axes>"
      ]
     },
     "metadata": {
      "needs_background": "light"
     },
     "output_type": "display_data"
    }
   ],
   "source": [
    "palette = plt.get_cmap('Dark2')\n",
    "\n",
    "fig, ax = plt.subplots(figsize=(8, 6))\n",
    "highlight_topics_handles = []\n",
    "for i, t in enumerate(topic_word_desc):\n",
    "    highlight_index = np.where(i == highlight_topics)[0]\n",
    "    if len(highlight_index) > 0:\n",
    "        color = palette(highlight_index[0])\n",
    "        label = 'topic ' + str(i+1)\n",
    "        lw = 3\n",
    "    else:\n",
    "        color = 'black'\n",
    "        label = 'other topics'\n",
    "        lw = 1\n",
    "    \n",
    "    hndl, = ax.plot(term_ranks, np.log(t[:n_terms]), color=color, label=label, lw=lw, alpha=0.3)\n",
    "    \n",
    "    if len(highlight_index) > 0:\n",
    "        highlight_topics_handles.append(hndl)\n",
    "\n",
    "ax.legend(handles=highlight_topics_handles, loc='best')\n",
    "fig;"
   ]
  },
  {
   "cell_type": "markdown",
   "metadata": {},
   "source": [
    "The highlighted topics are #94, #132 and #159. We will later have a closer look at them.\n",
    "\n",
    "We will now further investigate the topics and try to identify topics of interest to us, i.e. topics related to the COVID-19 pandemic. Before we continue, we apply a transformation to the topic-word matrix: We use [topic-word relevance](https://tmtoolkit.readthedocs.io/en/latest/topic_modeling.html#Topic-word-relevance) ([Sievert & Shirley 2014](https://www.aclweb.org/anthology/W14-3110/)) which *\"helps to identify the most relevant words within a topic by also accounting for the marginal probability of each word across the corpus\"*, i.e. this transformation puts a penalty on terms that are more common (have a higher marginal probability) and therefore pushes more \"specific\" terms to higher ranks in each topic."
   ]
  },
  {
   "cell_type": "code",
   "execution_count": 10,
   "metadata": {
    "execution": {
     "iopub.execute_input": "2020-11-23T16:59:04.546552Z",
     "iopub.status.busy": "2020-11-23T16:59:04.545887Z",
     "iopub.status.idle": "2020-11-23T16:59:04.599889Z",
     "shell.execute_reply": "2020-11-23T16:59:04.600266Z"
    }
   },
   "outputs": [
    {
     "data": {
      "text/plain": [
       "array([[-6.56622682, -6.47633154, -6.48707646, ..., -6.72499435,\n",
       "        -6.64484627, -5.20960509],\n",
       "       [-7.43442808, -7.3445328 , -7.35527771, ..., -6.70589241,\n",
       "        -5.11515226, -7.42773306],\n",
       "       [-6.78071434, -6.69081905, -6.70156397, ..., -5.58955515,\n",
       "        -5.97203059, -6.77401932],\n",
       "       ...,\n",
       "       [-7.14246662, -7.05257133, -7.06331625, ..., -7.30123414,\n",
       "        -5.31684861, -7.1357716 ],\n",
       "       [-3.15177778, -4.50491935, -3.50897469, ..., -7.03836263,\n",
       "        -5.02925396, -6.09519551],\n",
       "       [-7.59616309, -7.5062678 , -7.51701272, ..., -3.97399302,\n",
       "        -6.00977477, -7.58946807]])"
      ]
     },
     "execution_count": 10,
     "metadata": {},
     "output_type": "execute_result"
    }
   ],
   "source": [
    "from tmtoolkit.topicmod.model_stats import topic_word_relevance\n",
    "from tmtoolkit.bow.bow_stats import doc_lengths\n",
    "\n",
    "doclengths = doc_lengths(dtm)\n",
    "\n",
    "topic_word_rel = topic_word_relevance(topic_word, doc_topic, doclengths, lambda_=0.6)\n",
    "topic_word_rel"
   ]
  },
  {
   "cell_type": "markdown",
   "metadata": {},
   "source": [
    "We can now try to identify our topics of interest. We can do this computationally, e.g. by using [filter_topics()](https://tmtoolkit.readthedocs.io/en/latest/topic_modeling.html#Filtering-topics) and by specifying a list of search terms. By this, we identify all topics that contain at least one matching term in their `top_n=10` terms (remember we found out that 5 to 10 of its top terms sufficiently determine the topic). Note that we use the topic-word relevance matrix `topic_word_rel` here instead of the topic-word matrix, because we want the top terms list to be determined by the mentioned relevance metric instead of the topic-specific term probabilities."
   ]
  },
  {
   "cell_type": "code",
   "execution_count": 11,
   "metadata": {
    "execution": {
     "iopub.execute_input": "2020-11-23T16:59:04.603861Z",
     "iopub.status.busy": "2020-11-23T16:59:04.603361Z",
     "iopub.status.idle": "2020-11-23T16:59:04.707647Z",
     "shell.execute_reply": "2020-11-23T16:59:04.707970Z"
    }
   },
   "outputs": [
    {
     "data": {
      "text/plain": [
       "array([ 13,  28,  76,  90,  93, 108, 120, 126, 131, 155, 168, 180])"
      ]
     },
     "execution_count": 11,
     "metadata": {},
     "output_type": "execute_result"
    }
   ],
   "source": [
    "from tmtoolkit.topicmod.model_stats import filter_topics\n",
    "\n",
    "covid19_topics_automatic = filter_topics(['corona*', 'covid*', 'pandemie', 'sars*', 'infektion', 'rki'],\n",
    "                                         vocab, topic_word_rel, match_type='glob', top_n=10)\n",
    "covid19_topics_automatic + 1       # covid19_topics are topic *indices*; we add 1 to get topic numbers"
   ]
  },
  {
   "cell_type": "markdown",
   "metadata": {},
   "source": [
    "Alternatively (and you should do this anyway) is to look at the top terms of each topic and try to interpret each topic. This is feasible for 180 topics. By this, you can also identify COVID-19 related topics that don't involve the keywords above but maybe synonyms that you didn't think of. Furthermore, you make sure that the topics in your topic model make sense. As long as there's only a small fraction of \"nonsensical\" topics (which happens most of the time with LDA), you know your model is okay and you can identify and later exclude such topics.\n",
    "\n",
    "There are several ways to display and export topic modeling results, specifically the document-topic and topic-word distributions. See [this section in the tmtoolkit documentation](https://tmtoolkit.readthedocs.io/en/latest/topic_modeling.html#Displaying-and-exporting-topic-modeling-results) for the available options. We will export the results to a Excel file, which allows to easily investigate topics and mark them accordingly:"
   ]
  },
  {
   "cell_type": "code",
   "execution_count": 12,
   "metadata": {
    "execution": {
     "iopub.execute_input": "2020-11-23T16:59:04.711486Z",
     "iopub.status.busy": "2020-11-23T16:59:04.710775Z",
     "iopub.status.idle": "2020-11-23T16:59:04.712642Z",
     "shell.execute_reply": "2020-11-23T16:59:04.712999Z"
    }
   },
   "outputs": [],
   "source": [
    "from tmtoolkit.topicmod.model_io import save_ldamodel_summary_to_excel\n",
    "\n",
    "# this takes some time since the topic model is quite large\n",
    "\n",
    "# save_ldamodel_summary_to_excel('output/tm_final_k180_eta0.7.xlsx',\n",
    "#                                topic_word, doc_topic, doc_labels, vocab,\n",
    "#                                dtm = dtm);\n",
    "# save_ldamodel_summary_to_excel('output/tm_final_k180_eta0.7_tw_relevance.xlsx',\n",
    "#                                topic_word_rel, doc_topic, doc_labels, vocab,\n",
    "#                                dtm=dtm);"
   ]
  },
  {
   "cell_type": "markdown",
   "metadata": {},
   "source": [
    "I manually identified the following COVID-19 related topics (yellow background) as well as nonsensical (gray background) in `output/tm_final_k180_eta0.7_tw_relevance.xlsx` (see the `top_topic_word_labels` sheet):"
   ]
  },
  {
   "cell_type": "code",
   "execution_count": 13,
   "metadata": {
    "execution": {
     "iopub.execute_input": "2020-11-23T16:59:04.716860Z",
     "iopub.status.busy": "2020-11-23T16:59:04.716420Z",
     "iopub.status.idle": "2020-11-23T16:59:04.718644Z",
     "shell.execute_reply": "2020-11-23T16:59:04.718242Z"
    }
   },
   "outputs": [],
   "source": [
    "# substract 1 to get topic *indices* (these start at topic 0)\n",
    "\n",
    "nonsensical_topics = np.array([7, 8, 46, 47, 61, 63, 64, 74, 78, 80,\n",
    "                               93, 94, 97, 111, 113, 122, 124, 129,\n",
    "                               139, 159, 170]) - 1\n",
    "covid19_topics = np.array([13, 24, 28, 35, 50, 76, 90, 108, 126,\n",
    "                           131, 135, 152, 155, 168, 180]) - 1"
   ]
  },
  {
   "cell_type": "code",
   "execution_count": 14,
   "metadata": {
    "execution": {
     "iopub.execute_input": "2020-11-23T16:59:04.722015Z",
     "iopub.status.busy": "2020-11-23T16:59:04.721470Z",
     "iopub.status.idle": "2020-11-23T16:59:04.723886Z",
     "shell.execute_reply": "2020-11-23T16:59:04.724257Z"
    }
   },
   "outputs": [
    {
     "data": {
      "text/plain": [
       "(21, 15)"
      ]
     },
     "execution_count": 14,
     "metadata": {},
     "output_type": "execute_result"
    }
   ],
   "source": [
    "len(nonsensical_topics), len(covid19_topics)"
   ]
  },
  {
   "cell_type": "markdown",
   "metadata": {},
   "source": [
    "Most topics can be interpreted very well (see the Excel file). With a little more than 10% nonsensical topics (mostly consisting of very common words), however, we could probably remove more common words in the preprocessing step and generate a model that consists of a bit fewer topics. But I think for our purposes here the model is sufficient. It's also interesting to see how the model captures different perspectives of the pandemic in separate topics, e.g *topic_24* relating to wearing masks, *topic_50* relating to relaxing the Corona countermeasures or *topic_131* relating to vaccines against the virus. \n",
    "\n",
    "We also see that we found a few different topics as compared to the \"keyword search\" approach. We found the following topics additionally:"
   ]
  },
  {
   "cell_type": "code",
   "execution_count": 15,
   "metadata": {
    "execution": {
     "iopub.execute_input": "2020-11-23T16:59:04.728051Z",
     "iopub.status.busy": "2020-11-23T16:59:04.727505Z",
     "iopub.status.idle": "2020-11-23T16:59:04.730001Z",
     "shell.execute_reply": "2020-11-23T16:59:04.730378Z"
    }
   },
   "outputs": [
    {
     "data": {
      "text/plain": [
       "{24, 35, 50, 135, 152}"
      ]
     },
     "execution_count": 15,
     "metadata": {},
     "output_type": "execute_result"
    }
   ],
   "source": [
    "set(covid19_topics+1) - set(covid19_topics_automatic+1)"
   ]
  },
  {
   "cell_type": "markdown",
   "metadata": {},
   "source": [
    "Let's have a look at the top 10 terms for these additionally found topics:"
   ]
  },
  {
   "cell_type": "code",
   "execution_count": 16,
   "metadata": {
    "execution": {
     "iopub.execute_input": "2020-11-23T16:59:04.734460Z",
     "iopub.status.busy": "2020-11-23T16:59:04.733743Z",
     "iopub.status.idle": "2020-11-23T16:59:05.537359Z",
     "shell.execute_reply": "2020-11-23T16:59:05.537755Z"
    }
   },
   "outputs": [
    {
     "data": {
      "text/html": [
       "<div>\n",
       "<style scoped>\n",
       "    .dataframe tbody tr th:only-of-type {\n",
       "        vertical-align: middle;\n",
       "    }\n",
       "\n",
       "    .dataframe tbody tr th {\n",
       "        vertical-align: top;\n",
       "    }\n",
       "\n",
       "    .dataframe thead th {\n",
       "        text-align: right;\n",
       "    }\n",
       "</style>\n",
       "<table border=\"1\" class=\"dataframe\">\n",
       "  <thead>\n",
       "    <tr style=\"text-align: right;\">\n",
       "      <th></th>\n",
       "      <th>rank_1</th>\n",
       "      <th>rank_2</th>\n",
       "      <th>rank_3</th>\n",
       "      <th>rank_4</th>\n",
       "      <th>rank_5</th>\n",
       "      <th>rank_6</th>\n",
       "      <th>rank_7</th>\n",
       "      <th>rank_8</th>\n",
       "      <th>rank_9</th>\n",
       "      <th>rank_10</th>\n",
       "    </tr>\n",
       "    <tr>\n",
       "      <th>topic</th>\n",
       "      <th></th>\n",
       "      <th></th>\n",
       "      <th></th>\n",
       "      <th></th>\n",
       "      <th></th>\n",
       "      <th></th>\n",
       "      <th></th>\n",
       "      <th></th>\n",
       "      <th></th>\n",
       "      <th></th>\n",
       "    </tr>\n",
       "  </thead>\n",
       "  <tbody>\n",
       "    <tr>\n",
       "      <th>topic_24</th>\n",
       "      <td>maske (0.7224)</td>\n",
       "      <td>maskenpflicht (0.02156)</td>\n",
       "      <td>tragen (-0.2841)</td>\n",
       "      <td>trage (-0.5087)</td>\n",
       "      <td>schutzmasken (-0.6864)</td>\n",
       "      <td>pflicht (-1.121)</td>\n",
       "      <td>nase (-1.261)</td>\n",
       "      <td>mund (-1.328)</td>\n",
       "      <td>einkaufen (-1.596)</td>\n",
       "      <td>verstoß (-1.604)</td>\n",
       "    </tr>\n",
       "    <tr>\n",
       "      <th>topic_35</th>\n",
       "      <td>spahn (0.3342)</td>\n",
       "      <td>test (0.007197)</td>\n",
       "      <td>jens (-0.08562)</td>\n",
       "      <td>gesundheitsminister (-0.4132)</td>\n",
       "      <td>testen (-0.8518)</td>\n",
       "      <td>labor (-0.9737)</td>\n",
       "      <td>robert (-1.62)</td>\n",
       "      <td>deutschland (-1.705)</td>\n",
       "      <td>kostenlos (-1.951)</td>\n",
       "      <td>sagen (-1.975)</td>\n",
       "    </tr>\n",
       "    <tr>\n",
       "      <th>topic_50</th>\n",
       "      <td>lockerungen (-0.8067)</td>\n",
       "      <td>öffnung (-1.114)</td>\n",
       "      <td>öffnen (-1.175)</td>\n",
       "      <td>schrittweise (-1.263)</td>\n",
       "      <td>mai (-1.375)</td>\n",
       "      <td>lockerung (-1.425)</td>\n",
       "      <td>normalität (-1.545)</td>\n",
       "      <td>lockern (-1.547)</td>\n",
       "      <td>land (-1.697)</td>\n",
       "      <td>sollen (-1.72)</td>\n",
       "    </tr>\n",
       "    <tr>\n",
       "      <th>topic_135</th>\n",
       "      <td>hand (-0.5646)</td>\n",
       "      <td>abstand (-0.7781)</td>\n",
       "      <td>waschen (-0.8674)</td>\n",
       "      <td>husten (-0.9921)</td>\n",
       "      <td>sollen (-0.9941)</td>\n",
       "      <td>empfehlen (-1.103)</td>\n",
       "      <td>meter (-1.122)</td>\n",
       "      <td>halten (-1.294)</td>\n",
       "      <td>luft (-1.602)</td>\n",
       "      <td>einhalten (-1.695)</td>\n",
       "    </tr>\n",
       "    <tr>\n",
       "      <th>topic_152</th>\n",
       "      <td>arzt (0.08259)</td>\n",
       "      <td>patient (0.04521)</td>\n",
       "      <td>klinik (-0.1198)</td>\n",
       "      <td>krankenhaus (-0.4784)</td>\n",
       "      <td>krankenhäuser (-0.7729)</td>\n",
       "      <td>behandlung (-0.778)</td>\n",
       "      <td>intensivstation (-0.8414)</td>\n",
       "      <td>medizinisch (-0.9082)</td>\n",
       "      <td>behandeln (-0.9243)</td>\n",
       "      <td>mediziner (-1.016)</td>\n",
       "    </tr>\n",
       "  </tbody>\n",
       "</table>\n",
       "</div>"
      ],
      "text/plain": [
       "                          rank_1                   rank_2             rank_3  \\\n",
       "topic                                                                          \n",
       "topic_24          maske (0.7224)  maskenpflicht (0.02156)   tragen (-0.2841)   \n",
       "topic_35          spahn (0.3342)          test (0.007197)    jens (-0.08562)   \n",
       "topic_50   lockerungen (-0.8067)         öffnung (-1.114)    öffnen (-1.175)   \n",
       "topic_135         hand (-0.5646)        abstand (-0.7781)  waschen (-0.8674)   \n",
       "topic_152         arzt (0.08259)        patient (0.04521)   klinik (-0.1198)   \n",
       "\n",
       "                                  rank_4                   rank_5  \\\n",
       "topic                                                               \n",
       "topic_24                 trage (-0.5087)   schutzmasken (-0.6864)   \n",
       "topic_35   gesundheitsminister (-0.4132)         testen (-0.8518)   \n",
       "topic_50           schrittweise (-1.263)             mai (-1.375)   \n",
       "topic_135               husten (-0.9921)         sollen (-0.9941)   \n",
       "topic_152          krankenhaus (-0.4784)  krankenhäuser (-0.7729)   \n",
       "\n",
       "                        rank_6                     rank_7  \\\n",
       "topic                                                       \n",
       "topic_24      pflicht (-1.121)              nase (-1.261)   \n",
       "topic_35       labor (-0.9737)             robert (-1.62)   \n",
       "topic_50    lockerung (-1.425)        normalität (-1.545)   \n",
       "topic_135   empfehlen (-1.103)             meter (-1.122)   \n",
       "topic_152  behandlung (-0.778)  intensivstation (-0.8414)   \n",
       "\n",
       "                          rank_8               rank_9             rank_10  \n",
       "topic                                                                      \n",
       "topic_24           mund (-1.328)   einkaufen (-1.596)    verstoß (-1.604)  \n",
       "topic_35    deutschland (-1.705)   kostenlos (-1.951)      sagen (-1.975)  \n",
       "topic_50        lockern (-1.547)        land (-1.697)      sollen (-1.72)  \n",
       "topic_135        halten (-1.294)        luft (-1.602)  einhalten (-1.695)  \n",
       "topic_152  medizinisch (-0.9082)  behandeln (-0.9243)  mediziner (-1.016)  "
      ]
     },
     "execution_count": 16,
     "metadata": {},
     "output_type": "execute_result"
    }
   ],
   "source": [
    "from tmtoolkit.topicmod.model_io import ldamodel_top_topic_words\n",
    "\n",
    "ldamodel_top_topic_words(\n",
    "    topic_word_rel,\n",
    "    vocab,\n",
    "    top_n=10).iloc[sorted(set(covid19_topics) - set(covid19_topics_automatic)),:]"
   ]
  },
  {
   "cell_type": "markdown",
   "metadata": {},
   "source": [
    "We can see that by manually investigating the top words per topic, we identified Corona-related topics which didn't find with our set of keywords, because it's hard to create a comprehensive set of keywords.\n",
    "\n",
    "The following topics we didn't manually identify as COVID-19 related topics:"
   ]
  },
  {
   "cell_type": "code",
   "execution_count": 17,
   "metadata": {
    "execution": {
     "iopub.execute_input": "2020-11-23T16:59:05.541904Z",
     "iopub.status.busy": "2020-11-23T16:59:05.541401Z",
     "iopub.status.idle": "2020-11-23T16:59:05.543672Z",
     "shell.execute_reply": "2020-11-23T16:59:05.544053Z"
    }
   },
   "outputs": [
    {
     "data": {
      "text/plain": [
       "{93, 120}"
      ]
     },
     "execution_count": 17,
     "metadata": {},
     "output_type": "execute_result"
    }
   ],
   "source": [
    "set(covid19_topics_automatic+1) - set(covid19_topics+1)"
   ]
  },
  {
   "cell_type": "markdown",
   "metadata": {},
   "source": [
    "Let's investigate the top 10 terms for these two topics in order to make sure that we correctly identified these topics as *not* Corona-related:"
   ]
  },
  {
   "cell_type": "code",
   "execution_count": 18,
   "metadata": {
    "execution": {
     "iopub.execute_input": "2020-11-23T16:59:05.548019Z",
     "iopub.status.busy": "2020-11-23T16:59:05.547281Z",
     "iopub.status.idle": "2020-11-23T16:59:06.495085Z",
     "shell.execute_reply": "2020-11-23T16:59:06.495487Z"
    }
   },
   "outputs": [
    {
     "data": {
      "text/html": [
       "<div>\n",
       "<style scoped>\n",
       "    .dataframe tbody tr th:only-of-type {\n",
       "        vertical-align: middle;\n",
       "    }\n",
       "\n",
       "    .dataframe tbody tr th {\n",
       "        vertical-align: top;\n",
       "    }\n",
       "\n",
       "    .dataframe thead th {\n",
       "        text-align: right;\n",
       "    }\n",
       "</style>\n",
       "<table border=\"1\" class=\"dataframe\">\n",
       "  <thead>\n",
       "    <tr style=\"text-align: right;\">\n",
       "      <th></th>\n",
       "      <th>rank_1</th>\n",
       "      <th>rank_2</th>\n",
       "      <th>rank_3</th>\n",
       "      <th>rank_4</th>\n",
       "      <th>rank_5</th>\n",
       "      <th>rank_6</th>\n",
       "      <th>rank_7</th>\n",
       "      <th>rank_8</th>\n",
       "      <th>rank_9</th>\n",
       "      <th>rank_10</th>\n",
       "    </tr>\n",
       "    <tr>\n",
       "      <th>topic</th>\n",
       "      <th></th>\n",
       "      <th></th>\n",
       "      <th></th>\n",
       "      <th></th>\n",
       "      <th></th>\n",
       "      <th></th>\n",
       "      <th></th>\n",
       "      <th></th>\n",
       "      <th></th>\n",
       "      <th></th>\n",
       "    </tr>\n",
       "  </thead>\n",
       "  <tbody>\n",
       "    <tr>\n",
       "      <th>topic_93</th>\n",
       "      <td>uhr (-0.5045)</td>\n",
       "      <td>coronavirus (-2.113)</td>\n",
       "      <td>sagen (-2.135)</td>\n",
       "      <td>mensch (-2.176)</td>\n",
       "      <td>mehr (-2.316)</td>\n",
       "      <td>angabe (-2.326)</td>\n",
       "      <td>infektion (-2.35)</td>\n",
       "      <td>teilen (-2.354)</td>\n",
       "      <td>zahl (-2.368)</td>\n",
       "      <td>coronakrise (-2.396)</td>\n",
       "    </tr>\n",
       "    <tr>\n",
       "      <th>topic_120</th>\n",
       "      <td>prozent (-0.4142)</td>\n",
       "      <td>quartal (-0.9742)</td>\n",
       "      <td>wirtschaft (-1.244)</td>\n",
       "      <td>minus (-1.258)</td>\n",
       "      <td>rückgang (-1.299)</td>\n",
       "      <td>erwarten (-1.527)</td>\n",
       "      <td>rechnen (-1.565)</td>\n",
       "      <td>einbruch (-1.58)</td>\n",
       "      <td>coronakrise (-1.594)</td>\n",
       "      <td>stark (-1.595)</td>\n",
       "    </tr>\n",
       "  </tbody>\n",
       "</table>\n",
       "</div>"
      ],
      "text/plain": [
       "                      rank_1                rank_2               rank_3  \\\n",
       "topic                                                                     \n",
       "topic_93       uhr (-0.5045)  coronavirus (-2.113)       sagen (-2.135)   \n",
       "topic_120  prozent (-0.4142)     quartal (-0.9742)  wirtschaft (-1.244)   \n",
       "\n",
       "                    rank_4             rank_5             rank_6  \\\n",
       "topic                                                              \n",
       "topic_93   mensch (-2.176)      mehr (-2.316)    angabe (-2.326)   \n",
       "topic_120   minus (-1.258)  rückgang (-1.299)  erwarten (-1.527)   \n",
       "\n",
       "                      rank_7            rank_8                rank_9  \\\n",
       "topic                                                                  \n",
       "topic_93   infektion (-2.35)   teilen (-2.354)         zahl (-2.368)   \n",
       "topic_120   rechnen (-1.565)  einbruch (-1.58)  coronakrise (-1.594)   \n",
       "\n",
       "                        rank_10  \n",
       "topic                            \n",
       "topic_93   coronakrise (-2.396)  \n",
       "topic_120        stark (-1.595)  "
      ]
     },
     "execution_count": 18,
     "metadata": {},
     "output_type": "execute_result"
    }
   ],
   "source": [
    "ldamodel_top_topic_words(\n",
    "    topic_word_rel,\n",
    "    vocab,\n",
    "    top_n=10).iloc[sorted(set(covid19_topics_automatic) - set(covid19_topics)),:]"
   ]
  },
  {
   "cell_type": "markdown",
   "metadata": {},
   "source": [
    "*topic_93* was not selected as Corona-related since it seems nonsensical (it's actually in the list of nonsensical topics). *topic_120* was not selected since the topic is mainly about economy and \"coronakrise\" as only Corona-related term is only on the 9th rank. However, we should later include these topics in a sensitivity analysis.\n",
    "\n",
    "We can now [exclude nonsensical topics](https://tmtoolkit.readthedocs.io/en/latest/topic_modeling.html#Excluding-topics) from our model:"
   ]
  },
  {
   "cell_type": "code",
   "execution_count": 19,
   "metadata": {
    "execution": {
     "iopub.execute_input": "2020-11-23T16:59:06.500815Z",
     "iopub.status.busy": "2020-11-23T16:59:06.499642Z",
     "iopub.status.idle": "2020-11-23T16:59:06.568812Z",
     "shell.execute_reply": "2020-11-23T16:59:06.569437Z"
    }
   },
   "outputs": [
    {
     "data": {
      "text/plain": [
       "((32921, 159), (159, 3278))"
      ]
     },
     "execution_count": 19,
     "metadata": {},
     "output_type": "execute_result"
    }
   ],
   "source": [
    "from tmtoolkit.topicmod.model_stats import exclude_topics\n",
    "\n",
    "doc_topic, topic_word, new_topic_mapping =  exclude_topics(\n",
    "    nonsensical_topics, doc_topic, topic_word, return_new_topic_mapping=True\n",
    ")\n",
    "doc_topic.shape, topic_word.shape"
   ]
  },
  {
   "cell_type": "markdown",
   "metadata": {},
   "source": [
    "This leaves us with 159 topics. Note that the topic indices of the previously identified COVID-19 related topics now don't match to the new document-topic and topic-word distributions anymore. We can update the indices by using `new_topic_mapping` as returned from `exclude_topics()`:"
   ]
  },
  {
   "cell_type": "code",
   "execution_count": 20,
   "metadata": {
    "execution": {
     "iopub.execute_input": "2020-11-23T16:59:06.575537Z",
     "iopub.status.busy": "2020-11-23T16:59:06.574771Z",
     "iopub.status.idle": "2020-11-23T16:59:06.577489Z",
     "shell.execute_reply": "2020-11-23T16:59:06.578106Z"
    }
   },
   "outputs": [
    {
     "data": {
      "text/plain": [
       "array([ 10,  21,  25,  32,  45,  67,  79,  94, 108, 112, 116, 132, 135,\n",
       "       147, 158])"
      ]
     },
     "execution_count": 20,
     "metadata": {},
     "output_type": "execute_result"
    }
   ],
   "source": [
    "old_topic_ind, new_topic_ind = map(lambda x: np.array(list(x)),\n",
    "                                   (new_topic_mapping.keys(), new_topic_mapping.values()))\n",
    "covid19_topics = new_topic_ind[np.searchsorted(old_topic_ind, covid19_topics)]\n",
    "covid19_topics"
   ]
  },
  {
   "cell_type": "markdown",
   "metadata": {},
   "source": [
    "We can also [generate labels for the topics](https://tmtoolkit.readthedocs.io/en/latest/topic_modeling.html#Generating-labels-for-topics) from their top-ranking words. This helps when refering to specific topics."
   ]
  },
  {
   "cell_type": "code",
   "execution_count": 21,
   "metadata": {
    "execution": {
     "iopub.execute_input": "2020-11-23T16:59:06.582771Z",
     "iopub.status.busy": "2020-11-23T16:59:06.582233Z",
     "iopub.status.idle": "2020-11-23T16:59:06.911271Z",
     "shell.execute_reply": "2020-11-23T16:59:06.910832Z"
    }
   },
   "outputs": [],
   "source": [
    "from tmtoolkit.topicmod.model_stats import generate_topic_labels_from_top_words\n",
    "\n",
    "topic_labels = generate_topic_labels_from_top_words(\n",
    "    topic_word,\n",
    "    doc_topic,\n",
    "    doclengths,\n",
    "    vocab,\n",
    "    lambda_=0.6\n",
    ")\n"
   ]
  },
  {
   "cell_type": "markdown",
   "metadata": {},
   "source": [
    "These are the topic labels for our COVID-19 related topics:"
   ]
  },
  {
   "cell_type": "code",
   "execution_count": 22,
   "metadata": {
    "execution": {
     "iopub.execute_input": "2020-11-23T16:59:06.914960Z",
     "iopub.status.busy": "2020-11-23T16:59:06.914339Z",
     "iopub.status.idle": "2020-11-23T16:59:06.917149Z",
     "shell.execute_reply": "2020-11-23T16:59:06.916731Z"
    }
   },
   "outputs": [
    {
     "data": {
      "text/plain": [
       "array(['11_pandemie_coronakrise', '22_maske_maskenpflicht',\n",
       "       '26_neuinfektionen_zahl', '33_spahn_test', '46_lockerungen_öffnen',\n",
       "       '68_wuhan_coronavirus', '80_virus_sarscov2',\n",
       "       '95_schließen_maßnahme', '109_coronakrise_kurzarbeit',\n",
       "       '113_impfstoff_medikament', '117_hand_abstand', '133_arzt_patient',\n",
       "       '136_zahl_todesfälle', '148_quarantäne_positiv',\n",
       "       '159_coronakrise_corona'], dtype='<U33')"
      ]
     },
     "execution_count": 22,
     "metadata": {},
     "output_type": "execute_result"
    }
   ],
   "source": [
    "topic_labels[covid19_topics]"
   ]
  },
  {
   "cell_type": "markdown",
   "metadata": {},
   "source": [
    "A quick look at the marginal topic distribution shows us the most prominent topics in our corpus:"
   ]
  },
  {
   "cell_type": "code",
   "execution_count": 23,
   "metadata": {
    "execution": {
     "iopub.execute_input": "2020-11-23T16:59:06.921296Z",
     "iopub.status.busy": "2020-11-23T16:59:06.920483Z",
     "iopub.status.idle": "2020-11-23T16:59:06.940946Z",
     "shell.execute_reply": "2020-11-23T16:59:06.941367Z"
    }
   },
   "outputs": [
    {
     "data": {
      "text/plain": [
       "[('26_neuinfektionen_zahl', 0.015712434406330807),\n",
       " ('75_minute_tor', 0.012762950363237005),\n",
       " ('108_trump_donald', 0.01272651858438072),\n",
       " ('105_prozent_quartal', 0.012365290954533646),\n",
       " ('80_virus_sarscov2', 0.012150155180471557),\n",
       " ('46_lockerungen_öffnen', 0.011952432146179335),\n",
       " ('95_schließen_maßnahme', 0.011331682833765531),\n",
       " ('158_bayer_dortmund', 0.01112611539262225),\n",
       " ('93_gates_foundation', 0.010949357258572412),\n",
       " ('119_leben_mensch', 0.010779585583945827),\n",
       " ('136_zahl_todesfälle', 0.010306918241285478),\n",
       " ('107_prozent_zahl', 0.010126169620470383),\n",
       " ('68_wuhan_coronavirus', 0.010071376604688579),\n",
       " ('159_coronakrise_corona', 0.010035174941218018),\n",
       " ('32_gericht_verurteilen', 0.009998688185347377),\n",
       " ('34_begriff_medium', 0.009733718116205612),\n",
       " ('11_pandemie_coronakrise', 0.00972157511571275),\n",
       " ('101_song_musik', 0.009688675866130446),\n",
       " ('87_modell_motor', 0.009622671837856773),\n",
       " ('66_politisch_demokratie', 0.009520435686119617)]"
      ]
     },
     "execution_count": 23,
     "metadata": {},
     "output_type": "execute_result"
    }
   ],
   "source": [
    "from tmtoolkit.topicmod.model_stats import marginal_topic_distrib\n",
    "\n",
    "marg_topic = marginal_topic_distrib(doc_topic, doclengths)\n",
    "list(sorted(zip(topic_labels, marg_topic), key=lambda x: x[1], reverse=True))[:20]"
   ]
  },
  {
   "cell_type": "markdown",
   "metadata": {},
   "source": [
    "For the whole corpus (which includes about as much news articles from before the pandemic as from during the pandemic), we can calculate the overall share of Corona-related topics:"
   ]
  },
  {
   "cell_type": "code",
   "execution_count": 24,
   "metadata": {
    "execution": {
     "iopub.execute_input": "2020-11-23T16:59:06.945004Z",
     "iopub.status.busy": "2020-11-23T16:59:06.944403Z",
     "iopub.status.idle": "2020-11-23T16:59:06.946992Z",
     "shell.execute_reply": "2020-11-23T16:59:06.947371Z"
    }
   },
   "outputs": [
    {
     "data": {
      "text/plain": [
       "0.13442846454584428"
      ]
     },
     "execution_count": 24,
     "metadata": {},
     "output_type": "execute_result"
    }
   ],
   "source": [
    "sum(marg_topic[covid19_topics])"
   ]
  },
  {
   "cell_type": "markdown",
   "metadata": {},
   "source": [
    "## Daily COVID-19 cases and COVID-19 related topics in the news\n",
    "\n",
    "We now focus on the chronological development of the share of COVID-19 related topics as well as how this relates to the number of daily COVID-19 cases. We will calculate a share of COVID-19 related topics which represents our measure of COVID-19 media coverage on SPON.\n",
    "\n",
    "First, we load the corpus metadata that was generated in `prepare.py`:"
   ]
  },
  {
   "cell_type": "code",
   "execution_count": 25,
   "metadata": {
    "execution": {
     "iopub.execute_input": "2020-11-23T16:59:06.950355Z",
     "iopub.status.busy": "2020-11-23T16:59:06.949876Z",
     "iopub.status.idle": "2020-11-23T16:59:07.030362Z",
     "shell.execute_reply": "2020-11-23T16:59:07.030792Z"
    }
   },
   "outputs": [],
   "source": [
    "corpusmeta = unpickle_file('data/meta.pickle')"
   ]
  },
  {
   "cell_type": "markdown",
   "metadata": {},
   "source": [
    "We retrieve the publication date for each news article (in the same order as `doc_labels`):"
   ]
  },
  {
   "cell_type": "code",
   "execution_count": 26,
   "metadata": {
    "execution": {
     "iopub.execute_input": "2020-11-23T16:59:07.053702Z",
     "iopub.status.busy": "2020-11-23T16:59:07.048389Z",
     "iopub.status.idle": "2020-11-23T16:59:07.093803Z",
     "shell.execute_reply": "2020-11-23T16:59:07.094206Z"
    }
   },
   "outputs": [
    {
     "data": {
      "text/plain": [
       "array(['2019-11-13', '2020-01-28', '2020-06-29', ..., '2019-12-28',\n",
       "       '2019-12-30', '2020-08-24'], dtype='datetime64[D]')"
      ]
     },
     "execution_count": 26,
     "metadata": {},
     "output_type": "execute_result"
    }
   ],
   "source": [
    "doc_dates = np.array([corpusmeta[d]['pub_date'] for d in doc_labels], dtype='datetime64')\n",
    "doc_dates"
   ]
  },
  {
   "cell_type": "markdown",
   "metadata": {},
   "source": [
    "Now we calculate the marginal distribution of COVID-19 related topics per news article:"
   ]
  },
  {
   "cell_type": "code",
   "execution_count": 27,
   "metadata": {
    "execution": {
     "iopub.execute_input": "2020-11-23T16:59:07.099825Z",
     "iopub.status.busy": "2020-11-23T16:59:07.098845Z",
     "iopub.status.idle": "2020-11-23T16:59:07.104384Z",
     "shell.execute_reply": "2020-11-23T16:59:07.104782Z"
    }
   },
   "outputs": [
    {
     "data": {
      "text/plain": [
       "array([0.00674433, 0.01073171, 0.00950735, ..., 0.01285347, 0.04862579,\n",
       "       0.48698885])"
      ]
     },
     "execution_count": 27,
     "metadata": {},
     "output_type": "execute_result"
    }
   ],
   "source": [
    "marg_covid19 = np.sum(doc_topic[:, covid19_topics], axis=1)\n",
    "marg_covid19"
   ]
  },
  {
   "cell_type": "markdown",
   "metadata": {},
   "source": [
    "Let's put this all together with the document labels and document lengths in a dataframe:"
   ]
  },
  {
   "cell_type": "code",
   "execution_count": 28,
   "metadata": {
    "execution": {
     "iopub.execute_input": "2020-11-23T16:59:07.121778Z",
     "iopub.status.busy": "2020-11-23T16:59:07.120912Z",
     "iopub.status.idle": "2020-11-23T16:59:07.132895Z",
     "shell.execute_reply": "2020-11-23T16:59:07.133480Z"
    },
    "scrolled": false
   },
   "outputs": [
    {
     "data": {
      "text/html": [
       "<div>\n",
       "<style scoped>\n",
       "    .dataframe tbody tr th:only-of-type {\n",
       "        vertical-align: middle;\n",
       "    }\n",
       "\n",
       "    .dataframe tbody tr th {\n",
       "        vertical-align: top;\n",
       "    }\n",
       "\n",
       "    .dataframe thead th {\n",
       "        text-align: right;\n",
       "    }\n",
       "</style>\n",
       "<table border=\"1\" class=\"dataframe\">\n",
       "  <thead>\n",
       "    <tr style=\"text-align: right;\">\n",
       "      <th></th>\n",
       "      <th>label</th>\n",
       "      <th>date</th>\n",
       "      <th>length</th>\n",
       "      <th>marginal_covid19</th>\n",
       "    </tr>\n",
       "  </thead>\n",
       "  <tbody>\n",
       "    <tr>\n",
       "      <th>0</th>\n",
       "      <td>007-drehorte-in-europa-klimavertraeglicher-jam...</td>\n",
       "      <td>2019-11-13</td>\n",
       "      <td>310</td>\n",
       "      <td>0.006744</td>\n",
       "    </tr>\n",
       "    <tr>\n",
       "      <th>1</th>\n",
       "      <td>070-shake-in-berlin-vertrauensuebung-mit-einer...</td>\n",
       "      <td>2020-01-28</td>\n",
       "      <td>265</td>\n",
       "      <td>0.010732</td>\n",
       "    </tr>\n",
       "    <tr>\n",
       "      <th>2</th>\n",
       "      <td>1-fc-heidenheim-in-der-relegation-demoliert-in...</td>\n",
       "      <td>2020-06-29</td>\n",
       "      <td>226</td>\n",
       "      <td>0.009507</td>\n",
       "    </tr>\n",
       "    <tr>\n",
       "      <th>3</th>\n",
       "      <td>1-fc-heidenheim-unterliegt-werder-bremen-in-de...</td>\n",
       "      <td>2020-07-07</td>\n",
       "      <td>244</td>\n",
       "      <td>0.004907</td>\n",
       "    </tr>\n",
       "    <tr>\n",
       "      <th>4</th>\n",
       "      <td>1-fc-kaiserslautern-beantragt-in-der-3-liga-in...</td>\n",
       "      <td>2020-06-17</td>\n",
       "      <td>269</td>\n",
       "      <td>0.094440</td>\n",
       "    </tr>\n",
       "    <tr>\n",
       "      <th>...</th>\n",
       "      <td>...</td>\n",
       "      <td>...</td>\n",
       "      <td>...</td>\n",
       "      <td>...</td>\n",
       "    </tr>\n",
       "    <tr>\n",
       "      <th>32916</th>\n",
       "      <td>zwoelf-kinder-als-chefsache-a-d4533bfa-668c-49...</td>\n",
       "      <td>2020-04-11</td>\n",
       "      <td>421</td>\n",
       "      <td>0.129314</td>\n",
       "    </tr>\n",
       "    <tr>\n",
       "      <th>32917</th>\n",
       "      <td>zyklon-amphan-trifft-auf-indien-und-bangladesc...</td>\n",
       "      <td>2020-05-20</td>\n",
       "      <td>203</td>\n",
       "      <td>0.004484</td>\n",
       "    </tr>\n",
       "    <tr>\n",
       "      <th>32918</th>\n",
       "      <td>zypern-diebe-stehlen-koffer-mit-urne-darin-a-1...</td>\n",
       "      <td>2019-12-28</td>\n",
       "      <td>57</td>\n",
       "      <td>0.012853</td>\n",
       "    </tr>\n",
       "    <tr>\n",
       "      <th>32919</th>\n",
       "      <td>zypern-mutmassliche-urnendiebe-gefasst-familie...</td>\n",
       "      <td>2019-12-30</td>\n",
       "      <td>70</td>\n",
       "      <td>0.048626</td>\n",
       "    </tr>\n",
       "    <tr>\n",
       "      <th>32920</th>\n",
       "      <td>zytomegalie-was-schwangere-wissen-muessen-a-00...</td>\n",
       "      <td>2020-08-24</td>\n",
       "      <td>56</td>\n",
       "      <td>0.486989</td>\n",
       "    </tr>\n",
       "  </tbody>\n",
       "</table>\n",
       "<p>32921 rows × 4 columns</p>\n",
       "</div>"
      ],
      "text/plain": [
       "                                                   label       date  length  \\\n",
       "0      007-drehorte-in-europa-klimavertraeglicher-jam... 2019-11-13     310   \n",
       "1      070-shake-in-berlin-vertrauensuebung-mit-einer... 2020-01-28     265   \n",
       "2      1-fc-heidenheim-in-der-relegation-demoliert-in... 2020-06-29     226   \n",
       "3      1-fc-heidenheim-unterliegt-werder-bremen-in-de... 2020-07-07     244   \n",
       "4      1-fc-kaiserslautern-beantragt-in-der-3-liga-in... 2020-06-17     269   \n",
       "...                                                  ...        ...     ...   \n",
       "32916  zwoelf-kinder-als-chefsache-a-d4533bfa-668c-49... 2020-04-11     421   \n",
       "32917  zyklon-amphan-trifft-auf-indien-und-bangladesc... 2020-05-20     203   \n",
       "32918  zypern-diebe-stehlen-koffer-mit-urne-darin-a-1... 2019-12-28      57   \n",
       "32919  zypern-mutmassliche-urnendiebe-gefasst-familie... 2019-12-30      70   \n",
       "32920  zytomegalie-was-schwangere-wissen-muessen-a-00... 2020-08-24      56   \n",
       "\n",
       "       marginal_covid19  \n",
       "0              0.006744  \n",
       "1              0.010732  \n",
       "2              0.009507  \n",
       "3              0.004907  \n",
       "4              0.094440  \n",
       "...                 ...  \n",
       "32916          0.129314  \n",
       "32917          0.004484  \n",
       "32918          0.012853  \n",
       "32919          0.048626  \n",
       "32920          0.486989  \n",
       "\n",
       "[32921 rows x 4 columns]"
      ]
     },
     "execution_count": 28,
     "metadata": {},
     "output_type": "execute_result"
    }
   ],
   "source": [
    "docs_covid19 = pd.DataFrame({\n",
    "    'label': doc_labels,\n",
    "    'date': doc_dates,\n",
    "    'length': doclengths,\n",
    "    'marginal_covid19': marg_covid19\n",
    "})\n",
    "docs_covid19"
   ]
  },
  {
   "cell_type": "markdown",
   "metadata": {},
   "source": [
    "Sorting by marginal distribution gives us the documents with highest share of Corona-related topics:"
   ]
  },
  {
   "cell_type": "code",
   "execution_count": 29,
   "metadata": {
    "execution": {
     "iopub.execute_input": "2020-11-23T16:59:07.137660Z",
     "iopub.status.busy": "2020-11-23T16:59:07.136921Z",
     "iopub.status.idle": "2020-11-23T16:59:07.154665Z",
     "shell.execute_reply": "2020-11-23T16:59:07.153811Z"
    }
   },
   "outputs": [
    {
     "data": {
      "text/html": [
       "<div>\n",
       "<style scoped>\n",
       "    .dataframe tbody tr th:only-of-type {\n",
       "        vertical-align: middle;\n",
       "    }\n",
       "\n",
       "    .dataframe tbody tr th {\n",
       "        vertical-align: top;\n",
       "    }\n",
       "\n",
       "    .dataframe thead th {\n",
       "        text-align: right;\n",
       "    }\n",
       "</style>\n",
       "<table border=\"1\" class=\"dataframe\">\n",
       "  <thead>\n",
       "    <tr style=\"text-align: right;\">\n",
       "      <th></th>\n",
       "      <th>label</th>\n",
       "      <th>date</th>\n",
       "      <th>length</th>\n",
       "      <th>marginal_covid19</th>\n",
       "    </tr>\n",
       "  </thead>\n",
       "  <tbody>\n",
       "    <tr>\n",
       "      <th>8017</th>\n",
       "      <td>coronavirus-der-mund-nasen-schutz-ersetzt-nich...</td>\n",
       "      <td>2020-04-24</td>\n",
       "      <td>338</td>\n",
       "      <td>0.959401</td>\n",
       "    </tr>\n",
       "    <tr>\n",
       "      <th>8505</th>\n",
       "      <td>coronavirus-infizierte-genesene-tote-alle-live...</td>\n",
       "      <td>2020-03-18</td>\n",
       "      <td>394</td>\n",
       "      <td>0.946813</td>\n",
       "    </tr>\n",
       "    <tr>\n",
       "      <th>6949</th>\n",
       "      <td>corona-mundschutz-tragen-oder-nicht-tragen-a-e...</td>\n",
       "      <td>2020-04-02</td>\n",
       "      <td>391</td>\n",
       "      <td>0.934810</td>\n",
       "    </tr>\n",
       "    <tr>\n",
       "      <th>7130</th>\n",
       "      <td>corona-robert-koch-institut-meldet-hoechste-za...</td>\n",
       "      <td>2020-08-19</td>\n",
       "      <td>165</td>\n",
       "      <td>0.930165</td>\n",
       "    </tr>\n",
       "    <tr>\n",
       "      <th>5184</th>\n",
       "      <td>china-wie-gefaehrlich-ist-das-neuartige-corona...</td>\n",
       "      <td>2020-01-20</td>\n",
       "      <td>432</td>\n",
       "      <td>0.916635</td>\n",
       "    </tr>\n",
       "    <tr>\n",
       "      <th>...</th>\n",
       "      <td>...</td>\n",
       "      <td>...</td>\n",
       "      <td>...</td>\n",
       "      <td>...</td>\n",
       "    </tr>\n",
       "    <tr>\n",
       "      <th>22974</th>\n",
       "      <td>niederlande-dsgvo-oma-muss-facebook-foto-ihres...</td>\n",
       "      <td>2020-05-22</td>\n",
       "      <td>881</td>\n",
       "      <td>0.001030</td>\n",
       "    </tr>\n",
       "    <tr>\n",
       "      <th>11708</th>\n",
       "      <td>eine-kuh-erklaert-die-welt-a-b4a34c61-2b89-447...</td>\n",
       "      <td>2020-02-25</td>\n",
       "      <td>855</td>\n",
       "      <td>0.000996</td>\n",
       "    </tr>\n",
       "    <tr>\n",
       "      <th>2697</th>\n",
       "      <td>berlin-alexanderplatz-auf-der-berlinale-kaltes...</td>\n",
       "      <td>2020-02-26</td>\n",
       "      <td>856</td>\n",
       "      <td>0.000975</td>\n",
       "    </tr>\n",
       "    <tr>\n",
       "      <th>2929</th>\n",
       "      <td>berlinale-2020-perspektive-deutsches-kino-a-78...</td>\n",
       "      <td>2020-02-22</td>\n",
       "      <td>867</td>\n",
       "      <td>0.000969</td>\n",
       "    </tr>\n",
       "    <tr>\n",
       "      <th>14862</th>\n",
       "      <td>globale-konjunktur-unruhe-ist-die-neue-normali...</td>\n",
       "      <td>2019-10-13</td>\n",
       "      <td>896</td>\n",
       "      <td>0.000943</td>\n",
       "    </tr>\n",
       "  </tbody>\n",
       "</table>\n",
       "<p>32921 rows × 4 columns</p>\n",
       "</div>"
      ],
      "text/plain": [
       "                                                   label       date  length  \\\n",
       "8017   coronavirus-der-mund-nasen-schutz-ersetzt-nich... 2020-04-24     338   \n",
       "8505   coronavirus-infizierte-genesene-tote-alle-live... 2020-03-18     394   \n",
       "6949   corona-mundschutz-tragen-oder-nicht-tragen-a-e... 2020-04-02     391   \n",
       "7130   corona-robert-koch-institut-meldet-hoechste-za... 2020-08-19     165   \n",
       "5184   china-wie-gefaehrlich-ist-das-neuartige-corona... 2020-01-20     432   \n",
       "...                                                  ...        ...     ...   \n",
       "22974  niederlande-dsgvo-oma-muss-facebook-foto-ihres... 2020-05-22     881   \n",
       "11708  eine-kuh-erklaert-die-welt-a-b4a34c61-2b89-447... 2020-02-25     855   \n",
       "2697   berlin-alexanderplatz-auf-der-berlinale-kaltes... 2020-02-26     856   \n",
       "2929   berlinale-2020-perspektive-deutsches-kino-a-78... 2020-02-22     867   \n",
       "14862  globale-konjunktur-unruhe-ist-die-neue-normali... 2019-10-13     896   \n",
       "\n",
       "       marginal_covid19  \n",
       "8017           0.959401  \n",
       "8505           0.946813  \n",
       "6949           0.934810  \n",
       "7130           0.930165  \n",
       "5184           0.916635  \n",
       "...                 ...  \n",
       "22974          0.001030  \n",
       "11708          0.000996  \n",
       "2697           0.000975  \n",
       "2929           0.000969  \n",
       "14862          0.000943  \n",
       "\n",
       "[32921 rows x 4 columns]"
      ]
     },
     "execution_count": 29,
     "metadata": {},
     "output_type": "execute_result"
    }
   ],
   "source": [
    "docs_covid19.sort_values('marginal_covid19', ascending=False)"
   ]
  },
  {
   "cell_type": "markdown",
   "metadata": {},
   "source": [
    "We want to calculate an estimate of the *daily* share of Corona-related topics. Since for each day we have several news articles of different lengths, we can compute this estimate as the weighted average of the marginal COVID-19 topic probability of each news article per day. The weights are the share of an article's length compared to the total length of all articles on that day.\n",
    "\n",
    "Let's first compute the weights:"
   ]
  },
  {
   "cell_type": "code",
   "execution_count": 30,
   "metadata": {
    "execution": {
     "iopub.execute_input": "2020-11-23T16:59:07.159386Z",
     "iopub.status.busy": "2020-11-23T16:59:07.158642Z",
     "iopub.status.idle": "2020-11-23T16:59:07.268775Z",
     "shell.execute_reply": "2020-11-23T16:59:07.269330Z"
    }
   },
   "outputs": [
    {
     "data": {
      "text/html": [
       "<div>\n",
       "<style scoped>\n",
       "    .dataframe tbody tr th:only-of-type {\n",
       "        vertical-align: middle;\n",
       "    }\n",
       "\n",
       "    .dataframe tbody tr th {\n",
       "        vertical-align: top;\n",
       "    }\n",
       "\n",
       "    .dataframe thead th {\n",
       "        text-align: right;\n",
       "    }\n",
       "</style>\n",
       "<table border=\"1\" class=\"dataframe\">\n",
       "  <thead>\n",
       "    <tr style=\"text-align: right;\">\n",
       "      <th></th>\n",
       "      <th>label</th>\n",
       "      <th>date</th>\n",
       "      <th>length</th>\n",
       "      <th>marginal_covid19</th>\n",
       "      <th>weight</th>\n",
       "    </tr>\n",
       "  </thead>\n",
       "  <tbody>\n",
       "    <tr>\n",
       "      <th>0</th>\n",
       "      <td>007-drehorte-in-europa-klimavertraeglicher-jam...</td>\n",
       "      <td>2019-11-13</td>\n",
       "      <td>310</td>\n",
       "      <td>0.006744</td>\n",
       "      <td>0.013959</td>\n",
       "    </tr>\n",
       "    <tr>\n",
       "      <th>1</th>\n",
       "      <td>070-shake-in-berlin-vertrauensuebung-mit-einer...</td>\n",
       "      <td>2020-01-28</td>\n",
       "      <td>265</td>\n",
       "      <td>0.010732</td>\n",
       "      <td>0.013212</td>\n",
       "    </tr>\n",
       "    <tr>\n",
       "      <th>2</th>\n",
       "      <td>1-fc-heidenheim-in-der-relegation-demoliert-in...</td>\n",
       "      <td>2020-06-29</td>\n",
       "      <td>226</td>\n",
       "      <td>0.009507</td>\n",
       "      <td>0.011430</td>\n",
       "    </tr>\n",
       "    <tr>\n",
       "      <th>3</th>\n",
       "      <td>1-fc-heidenheim-unterliegt-werder-bremen-in-de...</td>\n",
       "      <td>2020-07-07</td>\n",
       "      <td>244</td>\n",
       "      <td>0.004907</td>\n",
       "      <td>0.011631</td>\n",
       "    </tr>\n",
       "    <tr>\n",
       "      <th>4</th>\n",
       "      <td>1-fc-kaiserslautern-beantragt-in-der-3-liga-in...</td>\n",
       "      <td>2020-06-17</td>\n",
       "      <td>269</td>\n",
       "      <td>0.094440</td>\n",
       "      <td>0.011453</td>\n",
       "    </tr>\n",
       "    <tr>\n",
       "      <th>...</th>\n",
       "      <td>...</td>\n",
       "      <td>...</td>\n",
       "      <td>...</td>\n",
       "      <td>...</td>\n",
       "      <td>...</td>\n",
       "    </tr>\n",
       "    <tr>\n",
       "      <th>32916</th>\n",
       "      <td>zwoelf-kinder-als-chefsache-a-d4533bfa-668c-49...</td>\n",
       "      <td>2020-04-11</td>\n",
       "      <td>421</td>\n",
       "      <td>0.129314</td>\n",
       "      <td>0.021682</td>\n",
       "    </tr>\n",
       "    <tr>\n",
       "      <th>32917</th>\n",
       "      <td>zyklon-amphan-trifft-auf-indien-und-bangladesc...</td>\n",
       "      <td>2020-05-20</td>\n",
       "      <td>203</td>\n",
       "      <td>0.004484</td>\n",
       "      <td>0.008875</td>\n",
       "    </tr>\n",
       "    <tr>\n",
       "      <th>32918</th>\n",
       "      <td>zypern-diebe-stehlen-koffer-mit-urne-darin-a-1...</td>\n",
       "      <td>2019-12-28</td>\n",
       "      <td>57</td>\n",
       "      <td>0.012853</td>\n",
       "      <td>0.004819</td>\n",
       "    </tr>\n",
       "    <tr>\n",
       "      <th>32919</th>\n",
       "      <td>zypern-mutmassliche-urnendiebe-gefasst-familie...</td>\n",
       "      <td>2019-12-30</td>\n",
       "      <td>70</td>\n",
       "      <td>0.048626</td>\n",
       "      <td>0.004296</td>\n",
       "    </tr>\n",
       "    <tr>\n",
       "      <th>32920</th>\n",
       "      <td>zytomegalie-was-schwangere-wissen-muessen-a-00...</td>\n",
       "      <td>2020-08-24</td>\n",
       "      <td>56</td>\n",
       "      <td>0.486989</td>\n",
       "      <td>0.002623</td>\n",
       "    </tr>\n",
       "  </tbody>\n",
       "</table>\n",
       "<p>32921 rows × 5 columns</p>\n",
       "</div>"
      ],
      "text/plain": [
       "                                                   label       date  length  \\\n",
       "0      007-drehorte-in-europa-klimavertraeglicher-jam... 2019-11-13     310   \n",
       "1      070-shake-in-berlin-vertrauensuebung-mit-einer... 2020-01-28     265   \n",
       "2      1-fc-heidenheim-in-der-relegation-demoliert-in... 2020-06-29     226   \n",
       "3      1-fc-heidenheim-unterliegt-werder-bremen-in-de... 2020-07-07     244   \n",
       "4      1-fc-kaiserslautern-beantragt-in-der-3-liga-in... 2020-06-17     269   \n",
       "...                                                  ...        ...     ...   \n",
       "32916  zwoelf-kinder-als-chefsache-a-d4533bfa-668c-49... 2020-04-11     421   \n",
       "32917  zyklon-amphan-trifft-auf-indien-und-bangladesc... 2020-05-20     203   \n",
       "32918  zypern-diebe-stehlen-koffer-mit-urne-darin-a-1... 2019-12-28      57   \n",
       "32919  zypern-mutmassliche-urnendiebe-gefasst-familie... 2019-12-30      70   \n",
       "32920  zytomegalie-was-schwangere-wissen-muessen-a-00... 2020-08-24      56   \n",
       "\n",
       "       marginal_covid19    weight  \n",
       "0              0.006744  0.013959  \n",
       "1              0.010732  0.013212  \n",
       "2              0.009507  0.011430  \n",
       "3              0.004907  0.011631  \n",
       "4              0.094440  0.011453  \n",
       "...                 ...       ...  \n",
       "32916          0.129314  0.021682  \n",
       "32917          0.004484  0.008875  \n",
       "32918          0.012853  0.004819  \n",
       "32919          0.048626  0.004296  \n",
       "32920          0.486989  0.002623  \n",
       "\n",
       "[32921 rows x 5 columns]"
      ]
     },
     "execution_count": 30,
     "metadata": {},
     "output_type": "execute_result"
    }
   ],
   "source": [
    "docs_covid19['weight'] = docs_covid19.groupby('date')\\\n",
    "    .length.transform(lambda g: g / g.sum())    # here \"g\" contains all articles' lengths on a given day\n",
    "docs_covid19"
   ]
  },
  {
   "cell_type": "markdown",
   "metadata": {},
   "source": [
    "We check that all weights sum up to 1 per day:"
   ]
  },
  {
   "cell_type": "code",
   "execution_count": 31,
   "metadata": {
    "execution": {
     "iopub.execute_input": "2020-11-23T16:59:07.273796Z",
     "iopub.status.busy": "2020-11-23T16:59:07.273070Z",
     "iopub.status.idle": "2020-11-23T16:59:07.278072Z",
     "shell.execute_reply": "2020-11-23T16:59:07.277636Z"
    }
   },
   "outputs": [
    {
     "data": {
      "text/plain": [
       "True"
      ]
     },
     "execution_count": 31,
     "metadata": {},
     "output_type": "execute_result"
    }
   ],
   "source": [
    "np.allclose(docs_covid19.groupby('date').weight.sum(), 1.0)"
   ]
  },
  {
   "cell_type": "markdown",
   "metadata": {},
   "source": [
    "We now compute the daily share of Corona-related topics:"
   ]
  },
  {
   "cell_type": "code",
   "execution_count": 32,
   "metadata": {
    "execution": {
     "iopub.execute_input": "2020-11-23T16:59:07.281801Z",
     "iopub.status.busy": "2020-11-23T16:59:07.281271Z",
     "iopub.status.idle": "2020-11-23T16:59:07.376181Z",
     "shell.execute_reply": "2020-11-23T16:59:07.375788Z"
    }
   },
   "outputs": [
    {
     "data": {
      "text/plain": [
       "date\n",
       "2019-10-01    0.031422\n",
       "2019-10-02    0.039168\n",
       "2019-10-03    0.034717\n",
       "2019-10-04    0.031006\n",
       "2019-10-05    0.026473\n",
       "                ...   \n",
       "2020-08-26    0.137607\n",
       "2020-08-27    0.151143\n",
       "2020-08-28    0.118545\n",
       "2020-08-29    0.111597\n",
       "2020-08-30    0.071660\n",
       "Length: 335, dtype: float64"
      ]
     },
     "execution_count": 32,
     "metadata": {},
     "output_type": "execute_result"
    }
   ],
   "source": [
    "ts_covid19topics = docs_covid19.groupby('date').apply(lambda g: (g.weight * g.marginal_covid19).sum())\n",
    "ts_covid19topics"
   ]
  },
  {
   "cell_type": "markdown",
   "metadata": {},
   "source": [
    "Check that we're within the limits of a valid probability:"
   ]
  },
  {
   "cell_type": "code",
   "execution_count": 33,
   "metadata": {
    "execution": {
     "iopub.execute_input": "2020-11-23T16:59:07.380604Z",
     "iopub.status.busy": "2020-11-23T16:59:07.379931Z",
     "iopub.status.idle": "2020-11-23T16:59:07.382285Z",
     "shell.execute_reply": "2020-11-23T16:59:07.382814Z"
    }
   },
   "outputs": [
    {
     "data": {
      "text/plain": [
       "True"
      ]
     },
     "execution_count": 33,
     "metadata": {},
     "output_type": "execute_result"
    }
   ],
   "source": [
    "np.all((0 <= ts_covid19topics) & (ts_covid19topics <= 1))"
   ]
  },
  {
   "cell_type": "markdown",
   "metadata": {},
   "source": [
    "Finally, let's plot the share of COVID-19 topics over time:"
   ]
  },
  {
   "cell_type": "code",
   "execution_count": 34,
   "metadata": {
    "execution": {
     "iopub.execute_input": "2020-11-23T16:59:07.400899Z",
     "iopub.status.busy": "2020-11-23T16:59:07.393588Z",
     "iopub.status.idle": "2020-11-23T16:59:07.762420Z",
     "shell.execute_reply": "2020-11-23T16:59:07.762865Z"
    }
   },
   "outputs": [
    {
     "data": {
      "image/png": "[encoded data removed]",
      "text/plain": [
       "<Figure size 720x432 with 1 Axes>"
      ]
     },
     "metadata": {
      "needs_background": "light"
     },
     "output_type": "display_data"
    }
   ],
   "source": [
    "fig, ax = plt.subplots(figsize=(10, 6))\n",
    "\n",
    "ax.plot(ts_covid19topics.index, ts_covid19topics)\n",
    "ax.set_ylabel('share of COVID-19 related topics')\n",
    "ax.set_title('COVID-19 related topics in SPON corpus over time')\n",
    "fig.savefig('plots/covidtopics_time.png')\n",
    "fig;"
   ]
  },
  {
   "cell_type": "markdown",
   "metadata": {},
   "source": [
    "We see clearly how media coverage on SPON got a first uptick in February when the first reports from the new lung disease in Wuhan arrived (this is how it's called in the first articles on SPON). By March and April media coverage skyrockets with a daily topic share of almost 40%. Note however, that we don't have information on how the respective articles were positioned on the website (i.e. frontpage news or rather positioned at the bottom of the page) and hence this doesn't need to reflect actually percepted media coverage by the public – it only reflects what was published anywhere on the page on that date."
   ]
  },
  {
   "cell_type": "markdown",
   "metadata": {},
   "source": [
    "In order to see how this relates to the number of daily COVID-19 cases, we first load data that I fetched from the [COVID-19 DataHub](https://covid19datahub.io/) *(Guidotti, E., Ardia, D., (2020), \"COVID-19 Data Hub\", Journal of Open Source Software 5(51):2376, doi: 10.21105/joss.02376.)*. The dataset is not part of the repository. You can download it at https://covid19datahub.io/articles/data.html#vintage-data."
   ]
  },
  {
   "cell_type": "code",
   "execution_count": 35,
   "metadata": {
    "execution": {
     "iopub.execute_input": "2020-11-23T16:59:07.766609Z",
     "iopub.status.busy": "2020-11-23T16:59:07.766024Z",
     "iopub.status.idle": "2020-11-23T16:59:07.944741Z",
     "shell.execute_reply": "2020-11-23T16:59:07.945129Z"
    },
    "scrolled": false
   },
   "outputs": [
    {
     "data": {
      "text/html": [
       "<div>\n",
       "<style scoped>\n",
       "    .dataframe tbody tr th:only-of-type {\n",
       "        vertical-align: middle;\n",
       "    }\n",
       "\n",
       "    .dataframe tbody tr th {\n",
       "        vertical-align: top;\n",
       "    }\n",
       "\n",
       "    .dataframe thead th {\n",
       "        text-align: right;\n",
       "    }\n",
       "</style>\n",
       "<table border=\"1\" class=\"dataframe\">\n",
       "  <thead>\n",
       "    <tr style=\"text-align: right;\">\n",
       "      <th></th>\n",
       "      <th>id</th>\n",
       "      <th>date</th>\n",
       "      <th>tests</th>\n",
       "      <th>confirmed</th>\n",
       "      <th>recovered</th>\n",
       "      <th>deaths</th>\n",
       "      <th>hosp</th>\n",
       "      <th>vent</th>\n",
       "      <th>icu</th>\n",
       "      <th>population</th>\n",
       "      <th>...</th>\n",
       "      <th>currency</th>\n",
       "      <th>administrative_area_level</th>\n",
       "      <th>administrative_area_level_1</th>\n",
       "      <th>administrative_area_level_2</th>\n",
       "      <th>administrative_area_level_3</th>\n",
       "      <th>latitude</th>\n",
       "      <th>longitude</th>\n",
       "      <th>key</th>\n",
       "      <th>key_apple_mobility</th>\n",
       "      <th>key_google_mobility</th>\n",
       "    </tr>\n",
       "  </thead>\n",
       "  <tbody>\n",
       "    <tr>\n",
       "      <th>0</th>\n",
       "      <td>AFG</td>\n",
       "      <td>2020-01-01</td>\n",
       "      <td>0</td>\n",
       "      <td>0</td>\n",
       "      <td>0</td>\n",
       "      <td>0</td>\n",
       "      <td>0</td>\n",
       "      <td>0</td>\n",
       "      <td>0</td>\n",
       "      <td>37172386</td>\n",
       "      <td>...</td>\n",
       "      <td>AFN</td>\n",
       "      <td>1</td>\n",
       "      <td>Afghanistan</td>\n",
       "      <td>NaN</td>\n",
       "      <td>NaN</td>\n",
       "      <td>33.0</td>\n",
       "      <td>65.0</td>\n",
       "      <td>NaN</td>\n",
       "      <td>NaN</td>\n",
       "      <td>AF</td>\n",
       "    </tr>\n",
       "    <tr>\n",
       "      <th>1</th>\n",
       "      <td>AFG</td>\n",
       "      <td>2020-01-02</td>\n",
       "      <td>0</td>\n",
       "      <td>0</td>\n",
       "      <td>0</td>\n",
       "      <td>0</td>\n",
       "      <td>0</td>\n",
       "      <td>0</td>\n",
       "      <td>0</td>\n",
       "      <td>37172386</td>\n",
       "      <td>...</td>\n",
       "      <td>AFN</td>\n",
       "      <td>1</td>\n",
       "      <td>Afghanistan</td>\n",
       "      <td>NaN</td>\n",
       "      <td>NaN</td>\n",
       "      <td>33.0</td>\n",
       "      <td>65.0</td>\n",
       "      <td>NaN</td>\n",
       "      <td>NaN</td>\n",
       "      <td>AF</td>\n",
       "    </tr>\n",
       "    <tr>\n",
       "      <th>2</th>\n",
       "      <td>AFG</td>\n",
       "      <td>2020-01-03</td>\n",
       "      <td>0</td>\n",
       "      <td>0</td>\n",
       "      <td>0</td>\n",
       "      <td>0</td>\n",
       "      <td>0</td>\n",
       "      <td>0</td>\n",
       "      <td>0</td>\n",
       "      <td>37172386</td>\n",
       "      <td>...</td>\n",
       "      <td>AFN</td>\n",
       "      <td>1</td>\n",
       "      <td>Afghanistan</td>\n",
       "      <td>NaN</td>\n",
       "      <td>NaN</td>\n",
       "      <td>33.0</td>\n",
       "      <td>65.0</td>\n",
       "      <td>NaN</td>\n",
       "      <td>NaN</td>\n",
       "      <td>AF</td>\n",
       "    </tr>\n",
       "    <tr>\n",
       "      <th>3</th>\n",
       "      <td>AFG</td>\n",
       "      <td>2020-01-04</td>\n",
       "      <td>0</td>\n",
       "      <td>0</td>\n",
       "      <td>0</td>\n",
       "      <td>0</td>\n",
       "      <td>0</td>\n",
       "      <td>0</td>\n",
       "      <td>0</td>\n",
       "      <td>37172386</td>\n",
       "      <td>...</td>\n",
       "      <td>AFN</td>\n",
       "      <td>1</td>\n",
       "      <td>Afghanistan</td>\n",
       "      <td>NaN</td>\n",
       "      <td>NaN</td>\n",
       "      <td>33.0</td>\n",
       "      <td>65.0</td>\n",
       "      <td>NaN</td>\n",
       "      <td>NaN</td>\n",
       "      <td>AF</td>\n",
       "    </tr>\n",
       "    <tr>\n",
       "      <th>4</th>\n",
       "      <td>AFG</td>\n",
       "      <td>2020-01-05</td>\n",
       "      <td>0</td>\n",
       "      <td>0</td>\n",
       "      <td>0</td>\n",
       "      <td>0</td>\n",
       "      <td>0</td>\n",
       "      <td>0</td>\n",
       "      <td>0</td>\n",
       "      <td>37172386</td>\n",
       "      <td>...</td>\n",
       "      <td>AFN</td>\n",
       "      <td>1</td>\n",
       "      <td>Afghanistan</td>\n",
       "      <td>NaN</td>\n",
       "      <td>NaN</td>\n",
       "      <td>33.0</td>\n",
       "      <td>65.0</td>\n",
       "      <td>NaN</td>\n",
       "      <td>NaN</td>\n",
       "      <td>AF</td>\n",
       "    </tr>\n",
       "  </tbody>\n",
       "</table>\n",
       "<p>5 rows × 35 columns</p>\n",
       "</div>"
      ],
      "text/plain": [
       "    id       date  tests  confirmed  recovered  deaths  hosp  vent  icu  \\\n",
       "0  AFG 2020-01-01      0          0          0       0     0     0    0   \n",
       "1  AFG 2020-01-02      0          0          0       0     0     0    0   \n",
       "2  AFG 2020-01-03      0          0          0       0     0     0    0   \n",
       "3  AFG 2020-01-04      0          0          0       0     0     0    0   \n",
       "4  AFG 2020-01-05      0          0          0       0     0     0    0   \n",
       "\n",
       "   population  ...  currency  administrative_area_level  \\\n",
       "0    37172386  ...       AFN                          1   \n",
       "1    37172386  ...       AFN                          1   \n",
       "2    37172386  ...       AFN                          1   \n",
       "3    37172386  ...       AFN                          1   \n",
       "4    37172386  ...       AFN                          1   \n",
       "\n",
       "   administrative_area_level_1  administrative_area_level_2  \\\n",
       "0                  Afghanistan                          NaN   \n",
       "1                  Afghanistan                          NaN   \n",
       "2                  Afghanistan                          NaN   \n",
       "3                  Afghanistan                          NaN   \n",
       "4                  Afghanistan                          NaN   \n",
       "\n",
       "   administrative_area_level_3  latitude  longitude  key  key_apple_mobility  \\\n",
       "0                          NaN      33.0       65.0  NaN                 NaN   \n",
       "1                          NaN      33.0       65.0  NaN                 NaN   \n",
       "2                          NaN      33.0       65.0  NaN                 NaN   \n",
       "3                          NaN      33.0       65.0  NaN                 NaN   \n",
       "4                          NaN      33.0       65.0  NaN                 NaN   \n",
       "\n",
       "   key_google_mobility  \n",
       "0                   AF  \n",
       "1                   AF  \n",
       "2                   AF  \n",
       "3                   AF  \n",
       "4                   AF  \n",
       "\n",
       "[5 rows x 35 columns]"
      ]
     },
     "execution_count": 35,
     "metadata": {},
     "output_type": "execute_result"
    }
   ],
   "source": [
    "coviddatahub_full = pd.read_csv('data/covid19datahub-2020-11-19.csv')\n",
    "coviddatahub_full['date'] = pd.to_datetime(coviddatahub_full.date)\n",
    "coviddatahub_full.head()"
   ]
  },
  {
   "cell_type": "markdown",
   "metadata": {},
   "source": [
    "We create a subset for our observation period and the variables of interest:"
   ]
  },
  {
   "cell_type": "code",
   "execution_count": 36,
   "metadata": {
    "execution": {
     "iopub.execute_input": "2020-11-23T16:59:07.949563Z",
     "iopub.status.busy": "2020-11-23T16:59:07.949056Z",
     "iopub.status.idle": "2020-11-23T16:59:07.968308Z",
     "shell.execute_reply": "2020-11-23T16:59:07.967829Z"
    }
   },
   "outputs": [],
   "source": [
    "coviddatahub = coviddatahub_full.loc[\n",
    "    (coviddatahub_full.date >= '2020-01-01') & (coviddatahub_full.date <= docs_covid19.date.max()),\n",
    "    ['id', 'date', 'confirmed', 'administrative_area_level_1']\n",
    "]"
   ]
  },
  {
   "cell_type": "markdown",
   "metadata": {},
   "source": [
    "The variable *confirmed* contains the *accumlated* number of confirmed COVID-19 cases per day. We need the daily cases so we apply `diff()` on that column per country:"
   ]
  },
  {
   "cell_type": "code",
   "execution_count": 37,
   "metadata": {
    "execution": {
     "iopub.execute_input": "2020-11-23T16:59:07.974186Z",
     "iopub.status.busy": "2020-11-23T16:59:07.973470Z",
     "iopub.status.idle": "2020-11-23T16:59:08.021186Z",
     "shell.execute_reply": "2020-11-23T16:59:08.021751Z"
    }
   },
   "outputs": [
    {
     "data": {
      "text/html": [
       "<div>\n",
       "<style scoped>\n",
       "    .dataframe tbody tr th:only-of-type {\n",
       "        vertical-align: middle;\n",
       "    }\n",
       "\n",
       "    .dataframe tbody tr th {\n",
       "        vertical-align: top;\n",
       "    }\n",
       "\n",
       "    .dataframe thead th {\n",
       "        text-align: right;\n",
       "    }\n",
       "</style>\n",
       "<table border=\"1\" class=\"dataframe\">\n",
       "  <thead>\n",
       "    <tr style=\"text-align: right;\">\n",
       "      <th></th>\n",
       "      <th>id</th>\n",
       "      <th>date</th>\n",
       "      <th>confirmed</th>\n",
       "      <th>administrative_area_level_1</th>\n",
       "      <th>daily</th>\n",
       "    </tr>\n",
       "  </thead>\n",
       "  <tbody>\n",
       "    <tr>\n",
       "      <th>0</th>\n",
       "      <td>AFG</td>\n",
       "      <td>2020-01-01</td>\n",
       "      <td>0</td>\n",
       "      <td>Afghanistan</td>\n",
       "      <td>0</td>\n",
       "    </tr>\n",
       "    <tr>\n",
       "      <th>1</th>\n",
       "      <td>AFG</td>\n",
       "      <td>2020-01-02</td>\n",
       "      <td>0</td>\n",
       "      <td>Afghanistan</td>\n",
       "      <td>0</td>\n",
       "    </tr>\n",
       "    <tr>\n",
       "      <th>2</th>\n",
       "      <td>AFG</td>\n",
       "      <td>2020-01-03</td>\n",
       "      <td>0</td>\n",
       "      <td>Afghanistan</td>\n",
       "      <td>0</td>\n",
       "    </tr>\n",
       "    <tr>\n",
       "      <th>3</th>\n",
       "      <td>AFG</td>\n",
       "      <td>2020-01-04</td>\n",
       "      <td>0</td>\n",
       "      <td>Afghanistan</td>\n",
       "      <td>0</td>\n",
       "    </tr>\n",
       "    <tr>\n",
       "      <th>4</th>\n",
       "      <td>AFG</td>\n",
       "      <td>2020-01-05</td>\n",
       "      <td>0</td>\n",
       "      <td>Afghanistan</td>\n",
       "      <td>0</td>\n",
       "    </tr>\n",
       "  </tbody>\n",
       "</table>\n",
       "</div>"
      ],
      "text/plain": [
       "    id       date  confirmed administrative_area_level_1  daily\n",
       "0  AFG 2020-01-01          0                 Afghanistan      0\n",
       "1  AFG 2020-01-02          0                 Afghanistan      0\n",
       "2  AFG 2020-01-03          0                 Afghanistan      0\n",
       "3  AFG 2020-01-04          0                 Afghanistan      0\n",
       "4  AFG 2020-01-05          0                 Afghanistan      0"
      ]
     },
     "execution_count": 37,
     "metadata": {},
     "output_type": "execute_result"
    }
   ],
   "source": [
    "coviddatahub['daily'] = coviddatahub.groupby('id').confirmed.diff().fillna(0).astype(np.int)\n",
    "coviddatahub.head()"
   ]
  },
  {
   "cell_type": "markdown",
   "metadata": {},
   "source": [
    "First, let's investigate Germany and create a subset for that:"
   ]
  },
  {
   "cell_type": "code",
   "execution_count": 38,
   "metadata": {
    "execution": {
     "iopub.execute_input": "2020-11-23T16:59:08.029408Z",
     "iopub.status.busy": "2020-11-23T16:59:08.028689Z",
     "iopub.status.idle": "2020-11-23T16:59:08.040638Z",
     "shell.execute_reply": "2020-11-23T16:59:08.041287Z"
    }
   },
   "outputs": [
    {
     "data": {
      "text/html": [
       "<div>\n",
       "<style scoped>\n",
       "    .dataframe tbody tr th:only-of-type {\n",
       "        vertical-align: middle;\n",
       "    }\n",
       "\n",
       "    .dataframe tbody tr th {\n",
       "        vertical-align: top;\n",
       "    }\n",
       "\n",
       "    .dataframe thead th {\n",
       "        text-align: right;\n",
       "    }\n",
       "</style>\n",
       "<table border=\"1\" class=\"dataframe\">\n",
       "  <thead>\n",
       "    <tr style=\"text-align: right;\">\n",
       "      <th></th>\n",
       "      <th>id</th>\n",
       "      <th>date</th>\n",
       "      <th>confirmed</th>\n",
       "      <th>administrative_area_level_1</th>\n",
       "      <th>daily</th>\n",
       "    </tr>\n",
       "  </thead>\n",
       "  <tbody>\n",
       "    <tr>\n",
       "      <th>15228</th>\n",
       "      <td>DEU</td>\n",
       "      <td>2020-01-01</td>\n",
       "      <td>0</td>\n",
       "      <td>Germany</td>\n",
       "      <td>0</td>\n",
       "    </tr>\n",
       "    <tr>\n",
       "      <th>15229</th>\n",
       "      <td>DEU</td>\n",
       "      <td>2020-01-02</td>\n",
       "      <td>0</td>\n",
       "      <td>Germany</td>\n",
       "      <td>0</td>\n",
       "    </tr>\n",
       "    <tr>\n",
       "      <th>15230</th>\n",
       "      <td>DEU</td>\n",
       "      <td>2020-01-03</td>\n",
       "      <td>1</td>\n",
       "      <td>Germany</td>\n",
       "      <td>1</td>\n",
       "    </tr>\n",
       "    <tr>\n",
       "      <th>15231</th>\n",
       "      <td>DEU</td>\n",
       "      <td>2020-01-04</td>\n",
       "      <td>1</td>\n",
       "      <td>Germany</td>\n",
       "      <td>0</td>\n",
       "    </tr>\n",
       "    <tr>\n",
       "      <th>15232</th>\n",
       "      <td>DEU</td>\n",
       "      <td>2020-01-05</td>\n",
       "      <td>1</td>\n",
       "      <td>Germany</td>\n",
       "      <td>0</td>\n",
       "    </tr>\n",
       "  </tbody>\n",
       "</table>\n",
       "</div>"
      ],
      "text/plain": [
       "        id       date  confirmed administrative_area_level_1  daily\n",
       "15228  DEU 2020-01-01          0                     Germany      0\n",
       "15229  DEU 2020-01-02          0                     Germany      0\n",
       "15230  DEU 2020-01-03          1                     Germany      1\n",
       "15231  DEU 2020-01-04          1                     Germany      0\n",
       "15232  DEU 2020-01-05          1                     Germany      0"
      ]
     },
     "execution_count": 38,
     "metadata": {},
     "output_type": "execute_result"
    }
   ],
   "source": [
    "coviddata_de = coviddatahub.loc[coviddatahub.id == 'DEU', :]\n",
    "coviddata_de.head()"
   ]
  },
  {
   "cell_type": "code",
   "execution_count": 39,
   "metadata": {
    "execution": {
     "iopub.execute_input": "2020-11-23T16:59:08.057138Z",
     "iopub.status.busy": "2020-11-23T16:59:08.056305Z",
     "iopub.status.idle": "2020-11-23T16:59:08.428922Z",
     "shell.execute_reply": "2020-11-23T16:59:08.429285Z"
    }
   },
   "outputs": [
    {
     "data": {
      "image/png": "[encoded data removed]",
      "text/plain": [
       "<Figure size 720x432 with 1 Axes>"
      ]
     },
     "metadata": {
      "needs_background": "light"
     },
     "output_type": "display_data"
    }
   ],
   "source": [
    "fig, ax = plt.subplots(figsize=(10, 6))\n",
    "\n",
    "ax.plot(coviddata_de.date, coviddata_de.daily)\n",
    "ax.set_ylabel('daily cases')\n",
    "ax.set_title('Daily confirmed COVID-19 cases for Germany')\n",
    "fig;"
   ]
  },
  {
   "cell_type": "markdown",
   "metadata": {},
   "source": [
    "Let's repeat this for a dataset that represents worldwide daily COVID-19 cases:"
   ]
  },
  {
   "cell_type": "code",
   "execution_count": 40,
   "metadata": {
    "execution": {
     "iopub.execute_input": "2020-11-23T16:59:08.434214Z",
     "iopub.status.busy": "2020-11-23T16:59:08.432857Z",
     "iopub.status.idle": "2020-11-23T16:59:08.437207Z",
     "shell.execute_reply": "2020-11-23T16:59:08.437602Z"
    }
   },
   "outputs": [],
   "source": [
    "coviddata_world = coviddatahub.groupby('date').daily.sum()"
   ]
  },
  {
   "cell_type": "code",
   "execution_count": 41,
   "metadata": {
    "execution": {
     "iopub.execute_input": "2020-11-23T16:59:08.456297Z",
     "iopub.status.busy": "2020-11-23T16:59:08.455779Z",
     "iopub.status.idle": "2020-11-23T16:59:08.755229Z",
     "shell.execute_reply": "2020-11-23T16:59:08.755571Z"
    }
   },
   "outputs": [
    {
     "data": {
      "image/png": "[encoded data removed]",
      "text/plain": [
       "<Figure size 720x432 with 1 Axes>"
      ]
     },
     "metadata": {
      "needs_background": "light"
     },
     "output_type": "display_data"
    }
   ],
   "source": [
    "fig, ax = plt.subplots(figsize=(10, 6))\n",
    "\n",
    "ax.plot(coviddata_world.index, coviddata_world)\n",
    "ax.set_ylabel('daily cases')\n",
    "ax.set_title('Daily confirmed COVID-19 cases worldwide')\n",
    "fig;"
   ]
  },
  {
   "cell_type": "markdown",
   "metadata": {},
   "source": [
    "### Relationship between infection rate in Germany and share of COVID-19 related topics on SPON\n",
    "\n",
    "We will now investigate how the share of COVID-19 topics relates to the number of daily COVID-19 cases in Germany."
   ]
  },
  {
   "cell_type": "code",
   "execution_count": 42,
   "metadata": {
    "execution": {
     "iopub.execute_input": "2020-11-23T16:59:08.759768Z",
     "iopub.status.busy": "2020-11-23T16:59:08.759332Z",
     "iopub.status.idle": "2020-11-23T16:59:08.761408Z",
     "shell.execute_reply": "2020-11-23T16:59:08.761029Z"
    }
   },
   "outputs": [],
   "source": [
    "ts_covid19topics2020 = ts_covid19topics[ts_covid19topics.index >= '2020-01-01']"
   ]
  },
  {
   "cell_type": "code",
   "execution_count": 43,
   "metadata": {
    "execution": {
     "iopub.execute_input": "2020-11-23T16:59:08.766798Z",
     "iopub.status.busy": "2020-11-23T16:59:08.766337Z",
     "iopub.status.idle": "2020-11-23T16:59:09.496360Z",
     "shell.execute_reply": "2020-11-23T16:59:09.495913Z"
    }
   },
   "outputs": [
    {
     "data": {
      "image/png": "[encoded data removed]",
      "text/plain": [
       "<Figure size 720x432 with 1 Axes>"
      ]
     },
     "metadata": {
      "needs_background": "light"
     },
     "output_type": "display_data"
    }
   ],
   "source": [
    "import statsmodels.api as sm\n",
    "import statsmodels.formula.api as smf\n",
    "\n",
    "smoothed = sm.nonparametric.lowess(ts_covid19topics2020, coviddata_de.daily,\n",
    "                                   frac=0.5)\n",
    "\n",
    "fig, ax = plt.subplots(figsize=(10, 6))\n",
    "\n",
    "ax.scatter(coviddata_de.daily, ts_covid19topics2020)\n",
    "ax.plot(smoothed[:, 0], smoothed[:, 1], c='black')\n",
    "ax.set_xlabel('daily cases in Germany')\n",
    "ax.set_ylabel('share of COVID-19 related topics')\n",
    "ax.set_title('COVID-19 infection rate in Germany and share of COVID-19 topics in SPON corpus')\n",
    "fig.savefig('plots/covidrate_topics_germany.png')\n",
    "fig;"
   ]
  },
  {
   "cell_type": "markdown",
   "metadata": {},
   "source": [
    "We can see that for daily numbers in the range of up to ~1,000 cases, higher case numbers are associated with a sharp increase in media coverage on SPON in our time frame. After that, the curve flattens until it consolidates at a high level.\n",
    "\n",
    "Note: No, the *LOWESS* (aka *LOESS*) smoother in Python's *statsmodels* package doesn't support confidence intervals, yet."
   ]
  },
  {
   "cell_type": "markdown",
   "metadata": {},
   "source": [
    "We could try to fit a function to this data to get more insights about the relationship between the number of cases in Germany and the share of COVID-19 related topics. We could fit a simple linear model with a single term, i.e. *covid19topics ~ dailycases*, but this wouldn't account for the damping effect that sets in at higher numbers of cases. Adding a quadratic term, i.e. specifying the model as *covid19topics ~ dailycases + dailycases²*, may be used to account for the damping effect while still providing a simple, interpretable model.\n",
    "\n",
    "Let's specify such a model:"
   ]
  },
  {
   "cell_type": "code",
   "execution_count": 44,
   "metadata": {
    "execution": {
     "iopub.execute_input": "2020-11-23T16:59:09.509242Z",
     "iopub.status.busy": "2020-11-23T16:59:09.508331Z",
     "iopub.status.idle": "2020-11-23T16:59:09.521442Z",
     "shell.execute_reply": "2020-11-23T16:59:09.521862Z"
    }
   },
   "outputs": [
    {
     "data": {
      "text/html": [
       "<table class=\"simpletable\">\n",
       "<caption>OLS Regression Results</caption>\n",
       "<tr>\n",
       "  <th>Dep. Variable:</th>      <td>covid19topics</td>  <th>  R-squared:         </th> <td>   0.684</td>\n",
       "</tr>\n",
       "<tr>\n",
       "  <th>Model:</th>                   <td>OLS</td>       <th>  Adj. R-squared:    </th> <td>   0.682</td>\n",
       "</tr>\n",
       "<tr>\n",
       "  <th>Method:</th>             <td>Least Squares</td>  <th>  F-statistic:       </th> <td>   260.3</td>\n",
       "</tr>\n",
       "<tr>\n",
       "  <th>Date:</th>             <td>Tue, 24 Nov 2020</td> <th>  Prob (F-statistic):</th> <td>7.71e-61</td>\n",
       "</tr>\n",
       "<tr>\n",
       "  <th>Time:</th>                 <td>12:09:51</td>     <th>  Log-Likelihood:    </th> <td>  397.52</td>\n",
       "</tr>\n",
       "<tr>\n",
       "  <th>No. Observations:</th>      <td>   243</td>      <th>  AIC:               </th> <td>  -789.0</td>\n",
       "</tr>\n",
       "<tr>\n",
       "  <th>Df Residuals:</th>          <td>   240</td>      <th>  BIC:               </th> <td>  -778.6</td>\n",
       "</tr>\n",
       "<tr>\n",
       "  <th>Df Model:</th>              <td>     2</td>      <th>                     </th>     <td> </td>   \n",
       "</tr>\n",
       "<tr>\n",
       "  <th>Covariance Type:</th>      <td>nonrobust</td>    <th>                     </th>     <td> </td>   \n",
       "</tr>\n",
       "</table>\n",
       "<table class=\"simpletable\">\n",
       "<tr>\n",
       "            <td></td>               <th>coef</th>     <th>std err</th>      <th>t</th>      <th>P>|t|</th>  <th>[0.025</th>    <th>0.975]</th>  \n",
       "</tr>\n",
       "<tr>\n",
       "  <th>Intercept</th>             <td>    0.0919</td> <td>    0.005</td> <td>   20.336</td> <td> 0.000</td> <td>    0.083</td> <td>    0.101</td>\n",
       "</tr>\n",
       "<tr>\n",
       "  <th>dailycases</th>            <td>    0.0001</td> <td>  6.5e-06</td> <td>   15.980</td> <td> 0.000</td> <td> 9.11e-05</td> <td>    0.000</td>\n",
       "</tr>\n",
       "<tr>\n",
       "  <th>np.square(dailycases)</th> <td>-1.169e-08</td> <td> 1.21e-09</td> <td>   -9.638</td> <td> 0.000</td> <td>-1.41e-08</td> <td> -9.3e-09</td>\n",
       "</tr>\n",
       "</table>\n",
       "<table class=\"simpletable\">\n",
       "<tr>\n",
       "  <th>Omnibus:</th>       <td> 4.503</td> <th>  Durbin-Watson:     </th> <td>   0.778</td>\n",
       "</tr>\n",
       "<tr>\n",
       "  <th>Prob(Omnibus):</th> <td> 0.105</td> <th>  Jarque-Bera (JB):  </th> <td>   4.600</td>\n",
       "</tr>\n",
       "<tr>\n",
       "  <th>Skew:</th>          <td> 0.326</td> <th>  Prob(JB):          </th> <td>   0.100</td>\n",
       "</tr>\n",
       "<tr>\n",
       "  <th>Kurtosis:</th>      <td> 2.828</td> <th>  Cond. No.          </th> <td>1.20e+07</td>\n",
       "</tr>\n",
       "</table><br/><br/>Notes:<br/>[1] Standard Errors assume that the covariance matrix of the errors is correctly specified.<br/>[2] The condition number is large, 1.2e+07. This might indicate that there are<br/>strong multicollinearity or other numerical problems."
      ],
      "text/plain": [
       "<class 'statsmodels.iolib.summary.Summary'>\n",
       "\"\"\"\n",
       "                            OLS Regression Results                            \n",
       "==============================================================================\n",
       "Dep. Variable:          covid19topics   R-squared:                       0.684\n",
       "Model:                            OLS   Adj. R-squared:                  0.682\n",
       "Method:                 Least Squares   F-statistic:                     260.3\n",
       "Date:                Tue, 24 Nov 2020   Prob (F-statistic):           7.71e-61\n",
       "Time:                        12:09:51   Log-Likelihood:                 397.52\n",
       "No. Observations:                 243   AIC:                            -789.0\n",
       "Df Residuals:                     240   BIC:                            -778.6\n",
       "Df Model:                           2                                         \n",
       "Covariance Type:            nonrobust                                         \n",
       "=========================================================================================\n",
       "                            coef    std err          t      P>|t|      [0.025      0.975]\n",
       "-----------------------------------------------------------------------------------------\n",
       "Intercept                 0.0919      0.005     20.336      0.000       0.083       0.101\n",
       "dailycases                0.0001    6.5e-06     15.980      0.000    9.11e-05       0.000\n",
       "np.square(dailycases) -1.169e-08   1.21e-09     -9.638      0.000   -1.41e-08    -9.3e-09\n",
       "==============================================================================\n",
       "Omnibus:                        4.503   Durbin-Watson:                   0.778\n",
       "Prob(Omnibus):                  0.105   Jarque-Bera (JB):                4.600\n",
       "Skew:                           0.326   Prob(JB):                        0.100\n",
       "Kurtosis:                       2.828   Cond. No.                     1.20e+07\n",
       "==============================================================================\n",
       "\n",
       "Notes:\n",
       "[1] Standard Errors assume that the covariance matrix of the errors is correctly specified.\n",
       "[2] The condition number is large, 1.2e+07. This might indicate that there are\n",
       "strong multicollinearity or other numerical problems.\n",
       "\"\"\""
      ]
     },
     "execution_count": 44,
     "metadata": {},
     "output_type": "execute_result"
    }
   ],
   "source": [
    "topics_cases = pd.DataFrame({\n",
    "    'covid19topics': ts_covid19topics2020.values,\n",
    "    'dailycases': coviddata_de.daily.values\n",
    "})\n",
    "\n",
    "lm_topics_cases = smf.ols('covid19topics ~ dailycases + np.square(dailycases)', data=topics_cases).fit()\n",
    "lm_topics_cases.summary()"
   ]
  },
  {
   "cell_type": "markdown",
   "metadata": {},
   "source": [
    "We can plot the model fit and interpret the results below."
   ]
  },
  {
   "cell_type": "code",
   "execution_count": 45,
   "metadata": {
    "execution": {
     "iopub.execute_input": "2020-11-23T16:59:09.539741Z",
     "iopub.status.busy": "2020-11-23T16:59:09.538002Z",
     "iopub.status.idle": "2020-11-23T16:59:09.939302Z",
     "shell.execute_reply": "2020-11-23T16:59:09.939712Z"
    }
   },
   "outputs": [
    {
     "data": {
      "image/png": "[encoded data removed]",
      "text/plain": [
       "<Figure size 720x432 with 1 Axes>"
      ]
     },
     "metadata": {
      "needs_background": "light"
     },
     "output_type": "display_data"
    }
   ],
   "source": [
    "fig, ax = plt.subplots(figsize=(10, 6))\n",
    "\n",
    "predinput = np.sort(np.unique(topics_cases.dailycases))\n",
    "predresults = lm_topics_cases.get_prediction(pd.DataFrame({'dailycases': predinput}))\\\n",
    "    .summary_frame(alpha=0.05)\n",
    "\n",
    "ax.scatter(topics_cases.dailycases, topics_cases.covid19topics)\n",
    "ax.plot(predinput,\n",
    "        lm_topics_cases.predict(pd.DataFrame({'dailycases': predinput})),\n",
    "        c='black')\n",
    "ax.plot(predinput, predresults.mean_ci_upper, 'r--')\n",
    "ax.plot(predinput, predresults.mean_ci_lower, 'r--')\n",
    "ax.set_xlabel('daily cases in Germany')\n",
    "ax.set_ylabel('share of COVID-19 related topics')\n",
    "ax.set_title('COVID-19 infection rate in Germany and share of COVID-19 topics in SPON corpus\\n'\n",
    "             'Fitted function: y={:.4f}{:+.4f}x{:+.4e}x².'\n",
    "             .format(*(lm_topics_cases.params.values).tolist()))\n",
    "fig.savefig('plots/covidrate_topics_germany_lm.png')\n",
    "fig;"
   ]
  },
  {
   "cell_type": "markdown",
   "metadata": {},
   "source": [
    "Starting with a share of Corona-related topics of around $0.09$ for no reported cases in Germany, the linear term can be interpretated as an increase of $0.1$ in Corona-related topic share **per 1000 cases**. The damping effect of the squared term with the negative coefficient sets in at higher numbers of daily cases. For example, at 1000 cases, the dampening effect is only around $-1.17 \\cdot 10^{-8} \\cdot 1000^2 = -0.0117$, but at 4000 cases it is already $-1.17 \\cdot 10^{-8} \\cdot 4000^2 = -0.19$."
   ]
  },
  {
   "cell_type": "markdown",
   "metadata": {},
   "source": [
    "### Relationship between worldwide infection rate and share of COVID-19 related topics on SPON\n",
    "\n",
    "Let's have a look at the relationship between *worldwide* daily Corona cases and share of COVID-19 related topics. We can make a similar figure as for the cases in Germany:"
   ]
  },
  {
   "cell_type": "code",
   "execution_count": 46,
   "metadata": {
    "execution": {
     "iopub.execute_input": "2020-11-23T16:59:09.956805Z",
     "iopub.status.busy": "2020-11-23T16:59:09.955942Z",
     "iopub.status.idle": "2020-11-23T16:59:10.365585Z",
     "shell.execute_reply": "2020-11-23T16:59:10.365154Z"
    },
    "scrolled": false
   },
   "outputs": [
    {
     "data": {
      "image/png": "[encoded data removed]",
      "text/plain": [
       "<Figure size 720x432 with 1 Axes>"
      ]
     },
     "metadata": {
      "needs_background": "light"
     },
     "output_type": "display_data"
    }
   ],
   "source": [
    "fig, ax = plt.subplots(figsize=(10, 6))\n",
    "\n",
    "smoothed = sm.nonparametric.lowess(ts_covid19topics2020, coviddata_world,\n",
    "                                   frac=0.3)\n",
    "\n",
    "ax.scatter(coviddata_world, ts_covid19topics2020)\n",
    "ax.plot(smoothed[:, 0], smoothed[:, 1], c='black')\n",
    "ax.set_xlabel('daily cases worldwide')\n",
    "ax.set_ylabel('share of COVID-19 related topics')\n",
    "ax.set_title('Worldwide COVID-19 infection rate and share of COVID-19 topics in SPON corpus')\n",
    "fig.savefig('plots/covidrate_topics_world.png')\n",
    "fig;"
   ]
  },
  {
   "cell_type": "markdown",
   "metadata": {},
   "source": [
    "We can see that there's not such a clear relationship between the worldwide infection rate and share of COVID-19 related topics on SPON as compared to the data from Germany. There's a sharp increase in the share of COVID-19 related topics on SPON until around 40,000 cases which coincides with the sharp increase of Corona cases in Germany in spring 2020. Despite of increasing daily infections in the world, the share of COVID-19 related topics decreases first and then stays constant at around $15\\%$ for 130,000 daily cases and more."
   ]
  },
  {
   "cell_type": "markdown",
   "metadata": {},
   "source": [
    "### Conclusion\n",
    "\n",
    "This notebook is supposed to showcase how topic models can be used to identify topics of interest in large-scale text data and how certain properties of these topics like their marginal probability can be used for further analyses.\n",
    "\n",
    "In the case of SPON, we found that national daily infection numbers clearly drive the volume of media coverage on COVID-19 during our time frame (January 2020 to end of August 2020), which is probably not very suprising. Even though infection rates increased dramatically in the world in summer 2020 (e.g. in Brazil, India and USA), media coverage first decreased and then stayed at a moderate level. But also regarding the national situation, media coverage on SPON stagnated on a high level with increasing infection rates in Germany. It will be interesting to see if this pattern holds with the second \"Corona wave\", that hit Germany in late autumn 2020, or if there's a \"weariness\" about media coverage that may lead to decreasing coverage despite of rising infection rates."
   ]
  }
 ],
 "metadata": {
  "kernelspec": {
   "display_name": "Python 3",
   "language": "python",
   "name": "python3"
  },
  "language_info": {
   "codemirror_mode": {
    "name": "ipython",
    "version": 3
   },
   "file_extension": ".py",
   "mimetype": "text/x-python",
   "name": "python",
   "nbconvert_exporter": "python",
   "pygments_lexer": "ipython3",
   "version": "3.8.5"
  }
 },
 "nbformat": 4,
 "nbformat_minor": 4
}
